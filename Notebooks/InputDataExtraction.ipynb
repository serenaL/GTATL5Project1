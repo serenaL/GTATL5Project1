{
 "cells": [
  {
   "cell_type": "markdown",
   "metadata": {},
   "source": [
    "### Code reads stock values from csv file\n",
    "* Location of input files is set in get_filename\n",
    "* Location of output file is set in separate cell\n",
    "* Run Main method to get all values for ticker listed in it\n",
    "* Values changes are in  %\n",
    "* ToDo: check if input file exists\n",
    "* Modified functions to support two types of outputs: dataset1, dataset2; see comments below for details"
   ]
  },
  {
   "cell_type": "code",
   "execution_count": 46,
   "metadata": {},
   "outputs": [],
   "source": [
    "# Dependencies\n",
    "import csv\n",
    "import os\n",
    "import pandas as pd \n",
    "import matplotlib.pyplot as plt"
   ]
  },
  {
   "cell_type": "code",
   "execution_count": 47,
   "metadata": {},
   "outputs": [],
   "source": [
    "# Supporting functions\n",
    "def get_filename(ticker):\n",
    "    return os.path.join(\"..\", \"InputData\", ticker + \".csv\") # use relative location of the input files to the notebook"
   ]
  },
  {
   "cell_type": "code",
   "execution_count": 48,
   "metadata": {},
   "outputs": [],
   "source": [
    "def read_ticker_file(file_name):\n",
    "    # Input file into dataframe\n",
    "    rawdata = pd.read_csv(file_name) \n",
    "    # Date into date type, date of week, week of year, Close value\n",
    "    rawdata.Date = rawdata.Date.astype('datetime64[ns]')\n",
    "    rawdata['Year.Week'] = [ td.year + (int(td.strftime(\"%W\"))) / 100 for td in rawdata.Date] # YYYY.0W\n",
    "    rawdata['Weekday'] = [ td.weekday() for td in rawdata.Date]\n",
    "    rawdata['CloseValue'] = rawdata.Close\n",
    "    \n",
    "    # Pivot data\n",
    "    return rawdata.pivot(index='Year.Week', columns='Weekday', values='CloseValue')\n",
    "\n",
    "def get_ticker_data(ticker):\n",
    "    # Read data from input file, calculate changes between two days\n",
    "    middata = read_ticker_file(get_filename(ticker))\n",
    "    middata.columns = ['Mo', 'Tu', 'We', 'Th', 'Fr'] # change column names, pandas does not like numerical values (?)\n",
    "    return middata"
   ]
  },
  {
   "cell_type": "code",
   "execution_count": 49,
   "metadata": {},
   "outputs": [],
   "source": [
    "delta1 = 'Th..Mo'\n",
    "delta2 = 'Mo..Th'\n",
    "\n",
    "def get_dataset1(ticker):\n",
    "    # This dataset has index, Ticker, and Th..Mo, Mo..Th delta values\n",
    "    midset1 = get_ticker_data(ticker)\n",
    "    midset1['Tmp'] = midset1.Th.shift(1) # move the column values one row down, it's used for cross week change calculation\n",
    "    midset1[delta1] = 100 * (midset1.Mo - midset1.Tmp) / midset1.Tmp # relative change from last week Thurday to Monday\n",
    "    midset1[delta2] = 100 * (midset1.Th - midset1.Mo) /  midset1.Mo # change from Monday to this week Thursday\n",
    "    midset1 = midset1.drop('Tmp', axis=1) # drop temporaty column\n",
    "    \n",
    "    # Clean input data\n",
    "    cleanset1 = midset1.dropna() # drop rows wiht n/a values; run this before columns reduction \n",
    "    cleanset1 = cleanset1.loc[:, [delta1, delta2]] # only needed columns\n",
    "    cleanset1.insert(loc=0, column='Ticker', value=ticker)\n",
    "    return cleanset1"
   ]
  },
  {
   "cell_type": "code",
   "execution_count": 50,
   "metadata": {},
   "outputs": [],
   "source": [
    "def get_dataset2(ticker):\n",
    "    # This dataset has index, Ticker, and Th..Mo, Mo..Th delta values\n",
    "    midset2 = get_ticker_data(ticker)\n",
    "    midset2['Tmp'] = midset2.Fr.shift(1) # move the column values one row down, it's used for cross week change calculation\n",
    "    # Calculate relative value changes for each weekday\n",
    "    midset2['Fr'] = 100 * (midset2.Fr - midset2.Th) /  midset2.Th\n",
    "    midset2['Th'] = 100 * (midset2.Th - midset2.We) /  midset2.We\n",
    "    midset2['We'] = 100 * (midset2.We - midset2.Tu) /  midset2.Tu\n",
    "    midset2['Tu'] = 100 * (midset2.Tu - midset2.Mo) /  midset2.Mo\n",
    "    midset2['Mo'] = 100 * (midset2.Mo - midset2.Tmp) / midset2.Tmp\n",
    "    midset2 = midset2.drop('Tmp', axis=1) # drop temporaty column\n",
    "    \n",
    "    # Clean input data\n",
    "    cleanset2 = midset2.dropna() # drop rows wiht n/a values; run this before columns reduction \n",
    "    cleanset2.insert(loc=0, column='Ticker', value=ticker)\n",
    "    cleanset2.insert(loc=1, column='Year', value=cleanset2.index)\n",
    "    cleanset2.Year = cleanset2.Year.astype(int) # get year number by column data type change\n",
    "    return cleanset2"
   ]
  },
  {
   "cell_type": "code",
   "execution_count": 51,
   "metadata": {},
   "outputs": [],
   "source": [
    "# Main method, call it to extract data from input file into DataFrame\n",
    "def main(setnr):\n",
    "    # List of tickers\n",
    "    tickers = [\"XLB\",\"XLC\",\"XLE\",\"XLF\",\"XLI\",\"XLK\",\"XLP\",\"XLRE\", \"XLU\", \"XLV\", \"XLY\"]\n",
    "\n",
    "    outputdf = pd.DataFrame()\n",
    "\n",
    "    print(f\"Running data extraction {setnr} ...\")\n",
    "    print(\"Ticker: \", end = '')\n",
    "    for ticker in tickers:\n",
    "        if(setnr == 1):\n",
    "            outputdf = outputdf.append(get_dataset1(ticker))\n",
    "        elif(setnr == 2):\n",
    "            outputdf = outputdf.append(get_dataset2(ticker))\n",
    "        else:\n",
    "            continue\n",
    "        print(ticker, end = ' ')\n",
    "    print(\"\")\n",
    "    print(\"... done.\")\n",
    "\n",
    "    return outputdf"
   ]
  },
  {
   "cell_type": "code",
   "execution_count": 52,
   "metadata": {},
   "outputs": [
    {
     "name": "stdout",
     "output_type": "stream",
     "text": [
      "Running data extraction 2 ...\n",
      "Ticker: XLB XLC XLE XLF XLI XLK XLP XLRE XLU XLV XLY \n",
      "... done.\n"
     ]
    },
    {
     "data": {
      "text/html": [
       "<div>\n",
       "<style scoped>\n",
       "    .dataframe tbody tr th:only-of-type {\n",
       "        vertical-align: middle;\n",
       "    }\n",
       "\n",
       "    .dataframe tbody tr th {\n",
       "        vertical-align: top;\n",
       "    }\n",
       "\n",
       "    .dataframe thead th {\n",
       "        text-align: right;\n",
       "    }\n",
       "</style>\n",
       "<table border=\"1\" class=\"dataframe\">\n",
       "  <thead>\n",
       "    <tr style=\"text-align: right;\">\n",
       "      <th></th>\n",
       "      <th>Ticker</th>\n",
       "      <th>Year</th>\n",
       "      <th>Mo</th>\n",
       "      <th>Tu</th>\n",
       "      <th>We</th>\n",
       "      <th>Th</th>\n",
       "      <th>Fr</th>\n",
       "    </tr>\n",
       "    <tr>\n",
       "      <th>Year.Week</th>\n",
       "      <th></th>\n",
       "      <th></th>\n",
       "      <th></th>\n",
       "      <th></th>\n",
       "      <th></th>\n",
       "      <th></th>\n",
       "      <th></th>\n",
       "    </tr>\n",
       "  </thead>\n",
       "  <tbody>\n",
       "    <tr>\n",
       "      <th>2000.02</th>\n",
       "      <td>XLB</td>\n",
       "      <td>2000</td>\n",
       "      <td>-0.341448</td>\n",
       "      <td>-1.199336</td>\n",
       "      <td>-1.445109</td>\n",
       "      <td>0.410580</td>\n",
       "      <td>-0.700935</td>\n",
       "    </tr>\n",
       "    <tr>\n",
       "      <th>2000.04</th>\n",
       "      <td>XLB</td>\n",
       "      <td>2000</td>\n",
       "      <td>-2.639897</td>\n",
       "      <td>-1.872151</td>\n",
       "      <td>0.000000</td>\n",
       "      <td>0.526316</td>\n",
       "      <td>-1.701571</td>\n",
       "    </tr>\n",
       "    <tr>\n",
       "      <th>2000.05</th>\n",
       "      <td>XLB</td>\n",
       "      <td>2000</td>\n",
       "      <td>-0.599227</td>\n",
       "      <td>1.808466</td>\n",
       "      <td>0.460552</td>\n",
       "      <td>-1.702735</td>\n",
       "      <td>-0.133193</td>\n",
       "    </tr>\n",
       "    <tr>\n",
       "      <th>2000.06</th>\n",
       "      <td>XLB</td>\n",
       "      <td>2000</td>\n",
       "      <td>-1.934648</td>\n",
       "      <td>-0.272109</td>\n",
       "      <td>-1.978198</td>\n",
       "      <td>-0.835073</td>\n",
       "      <td>-2.456114</td>\n",
       "    </tr>\n",
       "    <tr>\n",
       "      <th>2000.07</th>\n",
       "      <td>XLB</td>\n",
       "      <td>2000</td>\n",
       "      <td>1.654649</td>\n",
       "      <td>4.317084</td>\n",
       "      <td>-2.306649</td>\n",
       "      <td>-0.208360</td>\n",
       "      <td>-3.061935</td>\n",
       "    </tr>\n",
       "  </tbody>\n",
       "</table>\n",
       "</div>"
      ],
      "text/plain": [
       "          Ticker  Year        Mo        Tu        We        Th        Fr\n",
       "Year.Week                                                               \n",
       "2000.02      XLB  2000 -0.341448 -1.199336 -1.445109  0.410580 -0.700935\n",
       "2000.04      XLB  2000 -2.639897 -1.872151  0.000000  0.526316 -1.701571\n",
       "2000.05      XLB  2000 -0.599227  1.808466  0.460552 -1.702735 -0.133193\n",
       "2000.06      XLB  2000 -1.934648 -0.272109 -1.978198 -0.835073 -2.456114\n",
       "2000.07      XLB  2000  1.654649  4.317084 -2.306649 -0.208360 -3.061935"
      ]
     },
     "execution_count": 52,
     "metadata": {},
     "output_type": "execute_result"
    }
   ],
   "source": [
    "# Run data extraction\n",
    "# Returned value is df, you can save its value into file, or use it otherwise\n",
    "dataout2 = main(2)\n",
    "dataout2.head()"
   ]
  },
  {
   "cell_type": "code",
   "execution_count": 53,
   "metadata": {},
   "outputs": [
    {
     "data": {
      "text/html": [
       "<div>\n",
       "<style scoped>\n",
       "    .dataframe tbody tr th:only-of-type {\n",
       "        vertical-align: middle;\n",
       "    }\n",
       "\n",
       "    .dataframe tbody tr th {\n",
       "        vertical-align: top;\n",
       "    }\n",
       "\n",
       "    .dataframe thead th {\n",
       "        text-align: right;\n",
       "    }\n",
       "</style>\n",
       "<table border=\"1\" class=\"dataframe\">\n",
       "  <thead>\n",
       "    <tr style=\"text-align: right;\">\n",
       "      <th></th>\n",
       "      <th>Year</th>\n",
       "      <th>Mo</th>\n",
       "      <th>Tu</th>\n",
       "      <th>We</th>\n",
       "      <th>Th</th>\n",
       "      <th>Fr</th>\n",
       "    </tr>\n",
       "  </thead>\n",
       "  <tbody>\n",
       "    <tr>\n",
       "      <th>count</th>\n",
       "      <td>7490.000000</td>\n",
       "      <td>7490.000000</td>\n",
       "      <td>7490.000000</td>\n",
       "      <td>7490.000000</td>\n",
       "      <td>7490.000000</td>\n",
       "      <td>7490.000000</td>\n",
       "    </tr>\n",
       "    <tr>\n",
       "      <th>mean</th>\n",
       "      <td>2009.498531</td>\n",
       "      <td>-0.012513</td>\n",
       "      <td>0.076074</td>\n",
       "      <td>0.018158</td>\n",
       "      <td>0.055368</td>\n",
       "      <td>-0.033339</td>\n",
       "    </tr>\n",
       "    <tr>\n",
       "      <th>std</th>\n",
       "      <td>5.717903</td>\n",
       "      <td>1.510480</td>\n",
       "      <td>1.417790</td>\n",
       "      <td>1.422972</td>\n",
       "      <td>1.457670</td>\n",
       "      <td>1.273787</td>\n",
       "    </tr>\n",
       "    <tr>\n",
       "      <th>min</th>\n",
       "      <td>2000.000000</td>\n",
       "      <td>-16.666670</td>\n",
       "      <td>-10.561794</td>\n",
       "      <td>-14.443789</td>\n",
       "      <td>-14.396521</td>\n",
       "      <td>-8.115132</td>\n",
       "    </tr>\n",
       "    <tr>\n",
       "      <th>25%</th>\n",
       "      <td>2005.000000</td>\n",
       "      <td>-0.601858</td>\n",
       "      <td>-0.584910</td>\n",
       "      <td>-0.610038</td>\n",
       "      <td>-0.579228</td>\n",
       "      <td>-0.613541</td>\n",
       "    </tr>\n",
       "    <tr>\n",
       "      <th>50%</th>\n",
       "      <td>2010.000000</td>\n",
       "      <td>0.032946</td>\n",
       "      <td>0.072316</td>\n",
       "      <td>0.061108</td>\n",
       "      <td>0.100594</td>\n",
       "      <td>0.011821</td>\n",
       "    </tr>\n",
       "    <tr>\n",
       "      <th>75%</th>\n",
       "      <td>2015.000000</td>\n",
       "      <td>0.645092</td>\n",
       "      <td>0.708001</td>\n",
       "      <td>0.692056</td>\n",
       "      <td>0.739479</td>\n",
       "      <td>0.619640</td>\n",
       "    </tr>\n",
       "    <tr>\n",
       "      <th>max</th>\n",
       "      <td>2019.000000</td>\n",
       "      <td>16.474647</td>\n",
       "      <td>15.705618</td>\n",
       "      <td>13.104257</td>\n",
       "      <td>11.748884</td>\n",
       "      <td>11.844084</td>\n",
       "    </tr>\n",
       "  </tbody>\n",
       "</table>\n",
       "</div>"
      ],
      "text/plain": [
       "              Year           Mo           Tu           We           Th  \\\n",
       "count  7490.000000  7490.000000  7490.000000  7490.000000  7490.000000   \n",
       "mean   2009.498531    -0.012513     0.076074     0.018158     0.055368   \n",
       "std       5.717903     1.510480     1.417790     1.422972     1.457670   \n",
       "min    2000.000000   -16.666670   -10.561794   -14.443789   -14.396521   \n",
       "25%    2005.000000    -0.601858    -0.584910    -0.610038    -0.579228   \n",
       "50%    2010.000000     0.032946     0.072316     0.061108     0.100594   \n",
       "75%    2015.000000     0.645092     0.708001     0.692056     0.739479   \n",
       "max    2019.000000    16.474647    15.705618    13.104257    11.748884   \n",
       "\n",
       "                Fr  \n",
       "count  7490.000000  \n",
       "mean     -0.033339  \n",
       "std       1.273787  \n",
       "min      -8.115132  \n",
       "25%      -0.613541  \n",
       "50%       0.011821  \n",
       "75%       0.619640  \n",
       "max      11.844084  "
      ]
     },
     "execution_count": 53,
     "metadata": {},
     "output_type": "execute_result"
    }
   ],
   "source": [
    "# Check basic stat\n",
    "dataout2.describe()"
   ]
  },
  {
   "cell_type": "code",
   "execution_count": 54,
   "metadata": {},
   "outputs": [],
   "source": [
    "# Data into output file\n",
    "outfile = os.path.join(\"..\", \"OutputData\", \"TickersDataSet2.csv\")\n",
    "dataout2.to_csv(outfile)"
   ]
  },
  {
   "cell_type": "code",
   "execution_count": 55,
   "metadata": {},
   "outputs": [
    {
     "name": "stdout",
     "output_type": "stream",
     "text": [
      "Running data extraction 1 ...\n",
      "Ticker: XLB XLC XLE XLF XLI XLK XLP XLRE XLU XLV XLY \n",
      "... done.\n"
     ]
    },
    {
     "data": {
      "text/html": [
       "<div>\n",
       "<style scoped>\n",
       "    .dataframe tbody tr th:only-of-type {\n",
       "        vertical-align: middle;\n",
       "    }\n",
       "\n",
       "    .dataframe tbody tr th {\n",
       "        vertical-align: top;\n",
       "    }\n",
       "\n",
       "    .dataframe thead th {\n",
       "        text-align: right;\n",
       "    }\n",
       "</style>\n",
       "<table border=\"1\" class=\"dataframe\">\n",
       "  <thead>\n",
       "    <tr style=\"text-align: right;\">\n",
       "      <th></th>\n",
       "      <th>Ticker</th>\n",
       "      <th>Th..Mo</th>\n",
       "      <th>Mo..Th</th>\n",
       "    </tr>\n",
       "    <tr>\n",
       "      <th>Year.Week</th>\n",
       "      <th></th>\n",
       "      <th></th>\n",
       "      <th></th>\n",
       "    </tr>\n",
       "  </thead>\n",
       "  <tbody>\n",
       "    <tr>\n",
       "      <th>2000.02</th>\n",
       "      <td>XLB</td>\n",
       "      <td>-0.398158</td>\n",
       "      <td>-2.227320</td>\n",
       "    </tr>\n",
       "    <tr>\n",
       "      <th>2000.04</th>\n",
       "      <td>XLB</td>\n",
       "      <td>-2.209620</td>\n",
       "      <td>-1.355689</td>\n",
       "    </tr>\n",
       "    <tr>\n",
       "      <th>2000.05</th>\n",
       "      <td>XLB</td>\n",
       "      <td>-2.290601</td>\n",
       "      <td>0.535834</td>\n",
       "    </tr>\n",
       "    <tr>\n",
       "      <th>2000.06</th>\n",
       "      <td>XLB</td>\n",
       "      <td>-2.065265</td>\n",
       "      <td>-3.061251</td>\n",
       "    </tr>\n",
       "    <tr>\n",
       "      <th>2000.07</th>\n",
       "      <td>XLB</td>\n",
       "      <td>-0.842105</td>\n",
       "      <td>1.698514</td>\n",
       "    </tr>\n",
       "  </tbody>\n",
       "</table>\n",
       "</div>"
      ],
      "text/plain": [
       "          Ticker    Th..Mo    Mo..Th\n",
       "Year.Week                           \n",
       "2000.02      XLB -0.398158 -2.227320\n",
       "2000.04      XLB -2.209620 -1.355689\n",
       "2000.05      XLB -2.290601  0.535834\n",
       "2000.06      XLB -2.065265 -3.061251\n",
       "2000.07      XLB -0.842105  1.698514"
      ]
     },
     "execution_count": 55,
     "metadata": {},
     "output_type": "execute_result"
    }
   ],
   "source": [
    "# Get dataset1\n",
    "dataout1 = main(1)\n",
    "dataout1.head()"
   ]
  },
  {
   "cell_type": "code",
   "execution_count": 56,
   "metadata": {},
   "outputs": [
    {
     "data": {
      "text/html": [
       "<div>\n",
       "<style scoped>\n",
       "    .dataframe tbody tr th:only-of-type {\n",
       "        vertical-align: middle;\n",
       "    }\n",
       "\n",
       "    .dataframe tbody tr th {\n",
       "        vertical-align: top;\n",
       "    }\n",
       "\n",
       "    .dataframe thead th {\n",
       "        text-align: right;\n",
       "    }\n",
       "</style>\n",
       "<table border=\"1\" class=\"dataframe\">\n",
       "  <thead>\n",
       "    <tr style=\"text-align: right;\">\n",
       "      <th></th>\n",
       "      <th>Th..Mo</th>\n",
       "      <th>Mo..Th</th>\n",
       "    </tr>\n",
       "  </thead>\n",
       "  <tbody>\n",
       "    <tr>\n",
       "      <th>count</th>\n",
       "      <td>7534.000000</td>\n",
       "      <td>7534.000000</td>\n",
       "    </tr>\n",
       "    <tr>\n",
       "      <th>mean</th>\n",
       "      <td>-0.032672</td>\n",
       "      <td>0.143921</td>\n",
       "    </tr>\n",
       "    <tr>\n",
       "      <th>std</th>\n",
       "      <td>1.963821</td>\n",
       "      <td>2.429792</td>\n",
       "    </tr>\n",
       "    <tr>\n",
       "      <th>min</th>\n",
       "      <td>-14.234365</td>\n",
       "      <td>-23.089889</td>\n",
       "    </tr>\n",
       "    <tr>\n",
       "      <th>25%</th>\n",
       "      <td>-0.882447</td>\n",
       "      <td>-1.025743</td>\n",
       "    </tr>\n",
       "    <tr>\n",
       "      <th>50%</th>\n",
       "      <td>0.087238</td>\n",
       "      <td>0.187795</td>\n",
       "    </tr>\n",
       "    <tr>\n",
       "      <th>75%</th>\n",
       "      <td>0.941647</td>\n",
       "      <td>1.347232</td>\n",
       "    </tr>\n",
       "    <tr>\n",
       "      <th>max</th>\n",
       "      <td>18.918925</td>\n",
       "      <td>30.031933</td>\n",
       "    </tr>\n",
       "  </tbody>\n",
       "</table>\n",
       "</div>"
      ],
      "text/plain": [
       "            Th..Mo       Mo..Th\n",
       "count  7534.000000  7534.000000\n",
       "mean     -0.032672     0.143921\n",
       "std       1.963821     2.429792\n",
       "min     -14.234365   -23.089889\n",
       "25%      -0.882447    -1.025743\n",
       "50%       0.087238     0.187795\n",
       "75%       0.941647     1.347232\n",
       "max      18.918925    30.031933"
      ]
     },
     "execution_count": 56,
     "metadata": {},
     "output_type": "execute_result"
    }
   ],
   "source": [
    "# Check basic stat\n",
    "dataout1.describe()"
   ]
  },
  {
   "cell_type": "code",
   "execution_count": 57,
   "metadata": {},
   "outputs": [],
   "source": [
    "# Data into output file\n",
    "outfile = os.path.join(\"..\", \"OutputData\", \"TickersDataSet1.csv\")\n",
    "dataout1.to_csv(outfile)"
   ]
  },
  {
   "cell_type": "code",
   "execution_count": 58,
   "metadata": {},
   "outputs": [
    {
     "data": {
      "text/plain": [
       "Text(0.5, 0.98, 'Stock value change (%) count from Monday to Thurday')"
      ]
     },
     "execution_count": 58,
     "metadata": {},
     "output_type": "execute_result"
    },
    {
     "data": {
      "image/png": "[encoded data removed]",
      "text/plain": [
       "<Figure size 1440x504 with 1 Axes>"
      ]
     },
     "metadata": {
      "needs_background": "light"
     },
     "output_type": "display_data"
    },
    {
     "data": {
      "image/png": "[encoded data removed]",
      "text/plain": [
       "<Figure size 1440x504 with 1 Axes>"
      ]
     },
     "metadata": {
      "needs_background": "light"
     },
     "output_type": "display_data"
    }
   ],
   "source": [
    "# Check values distribution\n",
    "hist = dataout1.hist(bins=1000, figsize=(20,7), column=delta1)\n",
    "plt.suptitle(\"Stock value change (%) count from Thurday to Monday\")\n",
    "hist = dataout1.hist(bins=1000, figsize=(20,7), column=delta2)\n",
    "plt.suptitle(\"Stock value change (%) count from Monday to Thurday\")"
   ]
  },
  {
   "cell_type": "code",
   "execution_count": null,
   "metadata": {},
   "outputs": [],
   "source": []
  }
 ],
 "metadata": {
  "kernelspec": {
   "display_name": "BCproject1",
   "language": "python",
   "name": "bcproject1"
  },
  "language_info": {
   "codemirror_mode": {
    "name": "ipython",
    "version": 3
   },
   "file_extension": ".py",
   "mimetype": "text/x-python",
   "name": "python",
   "nbconvert_exporter": "python",
   "pygments_lexer": "ipython3",
   "version": "3.6.8"
  }
 },
 "nbformat": 4,
 "nbformat_minor": 2
}
