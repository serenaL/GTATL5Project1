{
 "cells": [
  {
   "cell_type": "markdown",
   "metadata": {},
   "source": [
    "### Code reads stock values from csv file\n",
    "* Location of input files is set in get_filename\n",
    "* Location of output file is set in separate cell\n",
    "* Run Main method to get all values for ticker listed in it\n",
    "* Values changes are in  %\n",
    "* ToDo: check if input file exists"
   ]
  },
  {
   "cell_type": "code",
   "execution_count": 64,
   "metadata": {},
   "outputs": [],
   "source": [
    "# Dependencies\n",
    "import csv\n",
    "import os\n",
    "import pandas as pd \n",
    "import matplotlib.pyplot as plt"
   ]
  },
  {
   "cell_type": "code",
   "execution_count": 2,
   "metadata": {},
   "outputs": [],
   "source": [
    "# Supporting functions\n",
    "def get_filename(ticker):\n",
    "    return os.path.join(\"..\", \"InputData\", ticker + \".csv\") # use relative location of the input files to the notebook"
   ]
  },
  {
   "cell_type": "code",
   "execution_count": 12,
   "metadata": {},
   "outputs": [],
   "source": [
    "def read_ticker(file_name):\n",
    "    # Input file into dataframe\n",
    "    rawdata = pd.read_csv(file_name) \n",
    "    # Date into date type, date of week, week of year, Close value\n",
    "    rawdata.Date = rawdata.Date.astype('datetime64[ns]')\n",
    "    rawdata['Year.Week'] = [ td.year + (int(td.strftime(\"%W\"))) / 100 for td in rawdata.Date] # YYYY.0W\n",
    "    rawdata['Weekday'] = [ td.weekday() for td in rawdata.Date]\n",
    "    rawdata['CloseValue'] = rawdata.Close\n",
    "    \n",
    "    # Pivot data\n",
    "    return rawdata.pivot(index='Year.Week', columns='Weekday', values='CloseValue')"
   ]
  },
  {
   "cell_type": "code",
   "execution_count": 55,
   "metadata": {},
   "outputs": [],
   "source": [
    "delta1 = 'Th..Mo'\n",
    "delta2 = 'Mo..Th'\n",
    "def get_ticker_data(ticker):\n",
    "    # Read data from input file, calculate changes between two days\n",
    "    middata = read_ticker(get_filename(ticker))\n",
    "    middata.columns = ['Mo', 'Tu', 'We', 'Th', 'Fr'] # change column names, pandas does not like numerical values (?)\n",
    "    middata['Tmp'] = middata.Th.shift(1) # move the column values one row down, it's used for cross week change calculation\n",
    "    middata[delta1] = 100 * (middata.Mo - middata.Tmp) / middata.Tmp # relative change from last week Thurday to Monday\n",
    "    middata[delta2] = 100 * (middata.Th - middata.Mo) /  middata.Mo # change from Monday to this week Thursday\n",
    "    middata = middata.drop('Tmp', axis=1) # drop temporaty column\n",
    "\n",
    "    # Clean input data\n",
    "    cleandata = middata.dropna() # drop rows wiht n/a values; run this before columns reduction \n",
    "    cleandata = cleandata.loc[:, [delta1, delta2]] # only needed columns\n",
    "    cleandata.insert(loc=0, column='Ticker', value=ticker)\n",
    "    # Uncomment next two lines if you want get column with year value\n",
    "    #cleandata.insert(loc=1, column='Year', value=cleandata.index)\n",
    "    #cleandata.Year = cleandata.Year.astype(int) # get year number by column data type change\n",
    "    return cleandata"
   ]
  },
  {
   "cell_type": "code",
   "execution_count": 56,
   "metadata": {},
   "outputs": [],
   "source": [
    "# Main method, call it to extract data from input file into DataFrame\n",
    "def main():\n",
    "    # List of tickers\n",
    "    tickers = [\"XLB\",\"XLC\",\"XLE\",\"XLF\",\"XLI\",\"XLK\",\"XLP\",\"XLRE\", \"XLU\", \"XLV\", \"XLY\"]\n",
    "\n",
    "    outputdf = pd.DataFrame()\n",
    "\n",
    "    print(\"Running data extraction ...\")\n",
    "    print(\"Ticker: \", end = '')\n",
    "    for ticker in tickers:\n",
    "        print(ticker, end = ' ')\n",
    "        outputdf = outputdf.append(get_ticker_data(ticker))\n",
    "    print(\"\")\n",
    "    print(\"... done.\")\n",
    "\n",
    "    return outputdf"
   ]
  },
  {
   "cell_type": "code",
   "execution_count": 57,
   "metadata": {},
   "outputs": [
    {
     "name": "stdout",
     "output_type": "stream",
     "text": [
      "Running data extraction ...\n",
      "Ticker: XLB XLC XLE XLF XLI XLK XLP XLRE XLU XLV XLY \n",
      "... done.\n"
     ]
    }
   ],
   "source": [
    "# Run data extraction\n",
    "# Returned value is df, you can save its value into file, or use it otherwise\n",
    "dataout = main()"
   ]
  },
  {
   "cell_type": "code",
   "execution_count": 58,
   "metadata": {},
   "outputs": [
    {
     "data": {
      "text/html": [
       "<div>\n",
       "<style scoped>\n",
       "    .dataframe tbody tr th:only-of-type {\n",
       "        vertical-align: middle;\n",
       "    }\n",
       "\n",
       "    .dataframe tbody tr th {\n",
       "        vertical-align: top;\n",
       "    }\n",
       "\n",
       "    .dataframe thead th {\n",
       "        text-align: right;\n",
       "    }\n",
       "</style>\n",
       "<table border=\"1\" class=\"dataframe\">\n",
       "  <thead>\n",
       "    <tr style=\"text-align: right;\">\n",
       "      <th></th>\n",
       "      <th>Th..Mo</th>\n",
       "      <th>Mo..Th</th>\n",
       "    </tr>\n",
       "  </thead>\n",
       "  <tbody>\n",
       "    <tr>\n",
       "      <th>count</th>\n",
       "      <td>7534.000000</td>\n",
       "      <td>7534.000000</td>\n",
       "    </tr>\n",
       "    <tr>\n",
       "      <th>mean</th>\n",
       "      <td>-0.032672</td>\n",
       "      <td>0.143921</td>\n",
       "    </tr>\n",
       "    <tr>\n",
       "      <th>std</th>\n",
       "      <td>1.963821</td>\n",
       "      <td>2.429792</td>\n",
       "    </tr>\n",
       "    <tr>\n",
       "      <th>min</th>\n",
       "      <td>-14.234365</td>\n",
       "      <td>-23.089889</td>\n",
       "    </tr>\n",
       "    <tr>\n",
       "      <th>25%</th>\n",
       "      <td>-0.882447</td>\n",
       "      <td>-1.025743</td>\n",
       "    </tr>\n",
       "    <tr>\n",
       "      <th>50%</th>\n",
       "      <td>0.087238</td>\n",
       "      <td>0.187795</td>\n",
       "    </tr>\n",
       "    <tr>\n",
       "      <th>75%</th>\n",
       "      <td>0.941647</td>\n",
       "      <td>1.347232</td>\n",
       "    </tr>\n",
       "    <tr>\n",
       "      <th>max</th>\n",
       "      <td>18.918925</td>\n",
       "      <td>30.031933</td>\n",
       "    </tr>\n",
       "  </tbody>\n",
       "</table>\n",
       "</div>"
      ],
      "text/plain": [
       "            Th..Mo       Mo..Th\n",
       "count  7534.000000  7534.000000\n",
       "mean     -0.032672     0.143921\n",
       "std       1.963821     2.429792\n",
       "min     -14.234365   -23.089889\n",
       "25%      -0.882447    -1.025743\n",
       "50%       0.087238     0.187795\n",
       "75%       0.941647     1.347232\n",
       "max      18.918925    30.031933"
      ]
     },
     "execution_count": 58,
     "metadata": {},
     "output_type": "execute_result"
    }
   ],
   "source": [
    "# Check basic stat\n",
    "dataout.describe()"
   ]
  },
  {
   "cell_type": "code",
   "execution_count": 59,
   "metadata": {},
   "outputs": [],
   "source": [
    "# Data into output file\n",
    "outfile = os.path.join(\"..\", \"OutputData\", \"TickersData.csv\")\n",
    "dataout.to_csv(outfile)"
   ]
  },
  {
   "cell_type": "code",
   "execution_count": 68,
   "metadata": {},
   "outputs": [
    {
     "data": {
      "text/plain": [
       "Text(0.5, 0.98, 'Number or % changes from Monday to Thurday')"
      ]
     },
     "execution_count": 68,
     "metadata": {},
     "output_type": "execute_result"
    },
    {
     "data": {
      "image/png": "[encoded data removed]",
      "text/plain": [
       "<Figure size 1440x504 with 1 Axes>"
      ]
     },
     "metadata": {
      "needs_background": "light"
     },
     "output_type": "display_data"
    },
    {
     "data": {
      "image/png": "[encoded data removed]",
      "text/plain": [
       "<Figure size 1440x504 with 1 Axes>"
      ]
     },
     "metadata": {
      "needs_background": "light"
     },
     "output_type": "display_data"
    }
   ],
   "source": [
    "# Check values distribution\n",
    "hist = dataout.hist(bins=500, figsize=(20,7), column=delta1)\n",
    "plt.suptitle(\"Number or % changes from Thurday to Monday\")\n",
    "hist = dataout.hist(bins=500, figsize=(20,7), column=delta2)\n",
    "plt.suptitle(\"Number or % changes from Monday to Thurday\")"
   ]
  },
  {
   "cell_type": "code",
   "execution_count": null,
   "metadata": {},
   "outputs": [],
   "source": []
  }
 ],
 "metadata": {
  "kernelspec": {
   "display_name": "BCproject1",
   "language": "python",
   "name": "bcproject1"
  },
  "language_info": {
   "codemirror_mode": {
    "name": "ipython",
    "version": 3
   },
   "file_extension": ".py",
   "mimetype": "text/x-python",
   "name": "python",
   "nbconvert_exporter": "python",
   "pygments_lexer": "ipython3",
   "version": "3.6.8"
  }
 },
 "nbformat": 4,
 "nbformat_minor": 2
}
