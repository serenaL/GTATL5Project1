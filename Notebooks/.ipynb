{
 "cells": [
  {
   "cell_type": "markdown",
   "metadata": {},
   "source": [
    "### Code reads stock values from csv file\n",
    "* Location of input files is set in get_filename\n",
    "* Location of output file is set in separate cell\n",
    "* Run Main method to get all values for ticker listed in it\n",
    "* Values changes are in  %\n",
    "* ToDo: check if input file exists\n",
    "* Modified functions to support two types of outputs: dataset1, dataset2; see comments below for details"
   ]
  },
  {
   "cell_type": "code",
   "execution_count": 36,
   "metadata": {},
   "outputs": [],
   "source": [
    "# Dependencies\n",
    "import csv\n",
    "import os\n",
    "import pandas as pd \n",
    "import matplotlib.pyplot as plt\n",
    "from scipy.stats import ttest_ind"
   ]
  },
  {
   "cell_type": "markdown",
   "metadata": {},
   "source": [
    "### Subroutines"
   ]
  },
  {
   "cell_type": "code",
   "execution_count": 37,
   "metadata": {},
   "outputs": [],
   "source": [
    "# Supporting functions\n",
    "def get_filename(ticker):\n",
    "    return os.path.join(\"..\", \"InputData\", ticker + \".csv\") # use relative location of the input files to the notebook\n",
    "\n",
    "# Calculate relative change\n",
    "def get_changepct(a, b):\n",
    "    return 100 * (b - a) /  a  "
   ]
  },
  {
   "cell_type": "code",
   "execution_count": 38,
   "metadata": {},
   "outputs": [],
   "source": [
    "def read_ticker_file(file_name):\n",
    "    # Input file into dataframe\n",
    "    rawdata = pd.read_csv(file_name) \n",
    "    # Date into date type, date of week, week of year, Close value\n",
    "    rawdata.Date = rawdata.Date.astype('datetime64[ns]')\n",
    "    rawdata['Year.Week'] = [ td.year + (int(td.strftime(\"%W\"))) / 100 for td in rawdata.Date] # YYYY.0W\n",
    "    rawdata['Weekday'] = [ td.weekday() for td in rawdata.Date]\n",
    "    rawdata['CloseValue'] = rawdata.Close # calculations use close values\n",
    "    \n",
    "    # Pivot data\n",
    "    return rawdata.pivot(index='Year.Week', columns='Weekday', values='CloseValue')\n",
    "\n",
    "def get_ticker_data(ticker):\n",
    "    # Read data from input file, calculate changes between two days\n",
    "    middata = read_ticker_file(get_filename(ticker))\n",
    "    middata.columns = ['Mo', 'Tu', 'We', 'Th', 'Fr'] # change column names, pandas does not like numerical values (?)\n",
    "    return middata"
   ]
  },
  {
   "cell_type": "code",
   "execution_count": 39,
   "metadata": {},
   "outputs": [],
   "source": [
    "# Names for columns with calculated values\n",
    "delta1 = 'Fr..Mo' \n",
    "delta2 = 'Tu..Th'\n",
    "\n",
    "def get_dataset1(ticker):\n",
    "    # This dataset has index, Ticker, and Th..Mo, Mo..Th delta values\n",
    "    midset1 = get_ticker_data(ticker)\n",
    "    \n",
    "    # Replace NA values in the end of the week with previous non NA \n",
    "    midset1 = midset1.fillna(method='ffill', axis=1)\n",
    "\n",
    "    # Replace NA values at the beginning of the week with following non NA \n",
    "    midset1 = midset1.fillna(method='bfill', axis=1)\n",
    "\n",
    "    # New row with Thursday value from previous week, move the column values one row down\n",
    "    midset1['Tmp'] = midset1.Th.shift(1)\n",
    "    \n",
    "    # Relative price change from previous week Thursday to this Monday per day\n",
    "    midset1[delta1] = get_changepct(midset1.Tmp, midset1.Mo) / 2\n",
    "    \n",
    "    # Relative price change from this week Monday to this week Thursday per day\n",
    "    midset1[delta2] = get_changepct(midset1.Mo, midset1.Th) / 3 \n",
    "\n",
    "    # Drop temporaty column\n",
    "    midset1 = midset1.drop('Tmp', axis=1)\n",
    "    \n",
    "    # Clean input data\n",
    "    # Drop rows wiht NA values; run this before columns reduction\n",
    "    cleanset1 = midset1.dropna()\n",
    "    # Drop unused columns\n",
    "    cleanset1 = cleanset1.loc[:, [delta1, delta2]]\n",
    " \n",
    "    # Tiker into new column\n",
    "    cleanset1.insert(loc=0, column='Ticker', value=ticker)\n",
    "\n",
    "    return cleanset1"
   ]
  },
  {
   "cell_type": "code",
   "execution_count": 40,
   "metadata": {},
   "outputs": [],
   "source": [
    "def get_dataset2(ticker):\n",
    "    # This dataset has index, Ticker, and Th..Mo, Mo..Th delta values\n",
    "    midset2 = get_ticker_data(ticker)\n",
    "\n",
    "    # Replace NA values in the end of the week with previous non NA \n",
    "    midset2 = midset2.fillna(method='ffill', axis=1)\n",
    "\n",
    "    # Replace NA values at the beginning of the week with following non NA \n",
    "    midset2 = midset2.fillna(method='bfill', axis=1)\n",
    "    \n",
    "    # Move the column values one row down, it's used for cross week change calculation\n",
    "    midset2['Tmp'] = midset2.Fr.shift(1) \n",
    "    \n",
    "    # Calculate relative value changes for each weekday\n",
    "    midset2['Fr'] = get_changepct(midset2.Th, midset2.Fr)\n",
    "    midset2['Th'] = get_changepct(midset2.We, midset2.Th)\n",
    "    midset2['We'] = get_changepct(midset2.Tu, midset2.We)\n",
    "    midset2['Tu'] = get_changepct(midset2.Mo, midset2.Tu)\n",
    "    midset2['Mo'] = get_changepct(midset2.Tmp, midset2.Mo)\n",
    "\n",
    "    # Drop temporaty column\n",
    "    midset2 = midset2.drop('Tmp', axis=1) \n",
    "    \n",
    "    # Clean input data\n",
    "    cleanset2 = midset2.dropna() # drop rows wiht n/a values; run this before columns reduction \n",
    "    cleanset2.insert(loc=0, column='Ticker', value=ticker)\n",
    "    cleanset2.insert(loc=1, column='Year', value=cleanset2.index)\n",
    "    cleanset2.Year = cleanset2.Year.astype(int) # get year number by column data type change\n",
    "    return cleanset2"
   ]
  },
  {
   "cell_type": "code",
   "execution_count": 41,
   "metadata": {},
   "outputs": [],
   "source": [
    "tickers = [\"XLB\",\"XLC\",\"XLE\",\"XLF\",\"XLI\",\"XLK\",\"XLP\",\"XLRE\",\"XLU\",\"XLV\",\"XLY\"]\n",
    "\n",
    "# Main method, call it to extract data from input file into DataFrame\n",
    "def main(setnr):\n",
    "    # List of tickers\n",
    "    outputdf = pd.DataFrame()\n",
    "\n",
    "    print(f\"Running data extraction {setnr} ...\")\n",
    "    print(\"Ticker: \", end = '')\n",
    "    for ticker in tickers:\n",
    "        if(setnr == 1):\n",
    "            outputdf = outputdf.append(get_dataset1(ticker))\n",
    "        elif(setnr == 2):\n",
    "            outputdf = outputdf.append(get_dataset2(ticker))\n",
    "        else:\n",
    "            continue\n",
    "        print(ticker, end = ' ')\n",
    "    print(\"\")\n",
    "    print(\"... done.\")\n",
    "\n",
    "    return outputdf"
   ]
  },
  {
   "cell_type": "markdown",
   "metadata": {},
   "source": [
    "### Dataset 2"
   ]
  },
  {
   "cell_type": "code",
   "execution_count": 42,
   "metadata": {},
   "outputs": [
    {
     "name": "stdout",
     "output_type": "stream",
     "text": [
      "Running data extraction 2 ...\n",
      "Ticker: XLB XLC XLE XLF XLI XLK XLP XLRE XLU XLV XLY \n",
      "... done.\n"
     ]
    },
    {
     "data": {
      "text/html": [
       "<div>\n",
       "<style scoped>\n",
       "    .dataframe tbody tr th:only-of-type {\n",
       "        vertical-align: middle;\n",
       "    }\n",
       "\n",
       "    .dataframe tbody tr th {\n",
       "        vertical-align: top;\n",
       "    }\n",
       "\n",
       "    .dataframe thead th {\n",
       "        text-align: right;\n",
       "    }\n",
       "</style>\n",
       "<table border=\"1\" class=\"dataframe\">\n",
       "  <thead>\n",
       "    <tr style=\"text-align: right;\">\n",
       "      <th></th>\n",
       "      <th>Ticker</th>\n",
       "      <th>Year</th>\n",
       "      <th>Mo</th>\n",
       "      <th>Tu</th>\n",
       "      <th>We</th>\n",
       "      <th>Th</th>\n",
       "      <th>Fr</th>\n",
       "    </tr>\n",
       "    <tr>\n",
       "      <th>Year.Week</th>\n",
       "      <th></th>\n",
       "      <th></th>\n",
       "      <th></th>\n",
       "      <th></th>\n",
       "      <th></th>\n",
       "      <th></th>\n",
       "      <th></th>\n",
       "    </tr>\n",
       "  </thead>\n",
       "  <tbody>\n",
       "    <tr>\n",
       "      <th>2000.02</th>\n",
       "      <td>XLB</td>\n",
       "      <td>2000</td>\n",
       "      <td>-0.341448</td>\n",
       "      <td>-1.199336</td>\n",
       "      <td>-1.445109</td>\n",
       "      <td>0.410580</td>\n",
       "      <td>-0.700935</td>\n",
       "    </tr>\n",
       "    <tr>\n",
       "      <th>2000.03</th>\n",
       "      <td>XLB</td>\n",
       "      <td>2000</td>\n",
       "      <td>-2.411742</td>\n",
       "      <td>0.000000</td>\n",
       "      <td>-1.928872</td>\n",
       "      <td>-2.642924</td>\n",
       "      <td>0.441943</td>\n",
       "    </tr>\n",
       "    <tr>\n",
       "      <th>2000.04</th>\n",
       "      <td>XLB</td>\n",
       "      <td>2000</td>\n",
       "      <td>-2.639897</td>\n",
       "      <td>-1.872151</td>\n",
       "      <td>0.000000</td>\n",
       "      <td>0.526316</td>\n",
       "      <td>-1.701571</td>\n",
       "    </tr>\n",
       "    <tr>\n",
       "      <th>2000.05</th>\n",
       "      <td>XLB</td>\n",
       "      <td>2000</td>\n",
       "      <td>-0.599227</td>\n",
       "      <td>1.808466</td>\n",
       "      <td>0.460552</td>\n",
       "      <td>-1.702735</td>\n",
       "      <td>-0.133193</td>\n",
       "    </tr>\n",
       "    <tr>\n",
       "      <th>2000.06</th>\n",
       "      <td>XLB</td>\n",
       "      <td>2000</td>\n",
       "      <td>-1.934648</td>\n",
       "      <td>-0.272109</td>\n",
       "      <td>-1.978198</td>\n",
       "      <td>-0.835073</td>\n",
       "      <td>-2.456114</td>\n",
       "    </tr>\n",
       "  </tbody>\n",
       "</table>\n",
       "</div>"
      ],
      "text/plain": [
       "          Ticker  Year        Mo        Tu        We        Th        Fr\n",
       "Year.Week                                                               \n",
       "2000.02      XLB  2000 -0.341448 -1.199336 -1.445109  0.410580 -0.700935\n",
       "2000.03      XLB  2000 -2.411742  0.000000 -1.928872 -2.642924  0.441943\n",
       "2000.04      XLB  2000 -2.639897 -1.872151  0.000000  0.526316 -1.701571\n",
       "2000.05      XLB  2000 -0.599227  1.808466  0.460552 -1.702735 -0.133193\n",
       "2000.06      XLB  2000 -1.934648 -0.272109 -1.978198 -0.835073 -2.456114"
      ]
     },
     "execution_count": 42,
     "metadata": {},
     "output_type": "execute_result"
    }
   ],
   "source": [
    "# Run data extraction\n",
    "# Returned value is df, you can save its value into file, or use it otherwise\n",
    "dataout2 = main(2)\n",
    "dataout2.head()"
   ]
  },
  {
   "cell_type": "code",
   "execution_count": 43,
   "metadata": {},
   "outputs": [
    {
     "data": {
      "text/html": [
       "<div>\n",
       "<style scoped>\n",
       "    .dataframe tbody tr th:only-of-type {\n",
       "        vertical-align: middle;\n",
       "    }\n",
       "\n",
       "    .dataframe tbody tr th {\n",
       "        vertical-align: top;\n",
       "    }\n",
       "\n",
       "    .dataframe thead th {\n",
       "        text-align: right;\n",
       "    }\n",
       "</style>\n",
       "<table border=\"1\" class=\"dataframe\">\n",
       "  <thead>\n",
       "    <tr style=\"text-align: right;\">\n",
       "      <th></th>\n",
       "      <th>Year</th>\n",
       "      <th>Mo</th>\n",
       "      <th>Tu</th>\n",
       "      <th>We</th>\n",
       "      <th>Th</th>\n",
       "      <th>Fr</th>\n",
       "    </tr>\n",
       "  </thead>\n",
       "  <tbody>\n",
       "    <tr>\n",
       "      <th>count</th>\n",
       "      <td>9507.000000</td>\n",
       "      <td>9507.000000</td>\n",
       "      <td>9507.000000</td>\n",
       "      <td>9507.000000</td>\n",
       "      <td>9507.000000</td>\n",
       "      <td>9507.000000</td>\n",
       "    </tr>\n",
       "    <tr>\n",
       "      <th>mean</th>\n",
       "      <td>2009.508467</td>\n",
       "      <td>0.008888</td>\n",
       "      <td>0.072679</td>\n",
       "      <td>0.037668</td>\n",
       "      <td>0.044975</td>\n",
       "      <td>-0.034612</td>\n",
       "    </tr>\n",
       "    <tr>\n",
       "      <th>std</th>\n",
       "      <td>5.723998</td>\n",
       "      <td>1.520621</td>\n",
       "      <td>1.328547</td>\n",
       "      <td>1.414532</td>\n",
       "      <td>1.391195</td>\n",
       "      <td>1.249656</td>\n",
       "    </tr>\n",
       "    <tr>\n",
       "      <th>min</th>\n",
       "      <td>2000.000000</td>\n",
       "      <td>-16.666670</td>\n",
       "      <td>-10.561794</td>\n",
       "      <td>-14.443789</td>\n",
       "      <td>-14.396521</td>\n",
       "      <td>-8.115132</td>\n",
       "    </tr>\n",
       "    <tr>\n",
       "      <th>25%</th>\n",
       "      <td>2005.000000</td>\n",
       "      <td>-0.588363</td>\n",
       "      <td>-0.465719</td>\n",
       "      <td>-0.589092</td>\n",
       "      <td>-0.526921</td>\n",
       "      <td>-0.584804</td>\n",
       "    </tr>\n",
       "    <tr>\n",
       "      <th>50%</th>\n",
       "      <td>2010.000000</td>\n",
       "      <td>0.061652</td>\n",
       "      <td>0.000000</td>\n",
       "      <td>0.035211</td>\n",
       "      <td>0.042772</td>\n",
       "      <td>0.000000</td>\n",
       "    </tr>\n",
       "    <tr>\n",
       "      <th>75%</th>\n",
       "      <td>2015.000000</td>\n",
       "      <td>0.685190</td>\n",
       "      <td>0.607615</td>\n",
       "      <td>0.671833</td>\n",
       "      <td>0.682195</td>\n",
       "      <td>0.593503</td>\n",
       "    </tr>\n",
       "    <tr>\n",
       "      <th>max</th>\n",
       "      <td>2019.000000</td>\n",
       "      <td>16.474647</td>\n",
       "      <td>15.705618</td>\n",
       "      <td>16.101695</td>\n",
       "      <td>15.543491</td>\n",
       "      <td>11.844084</td>\n",
       "    </tr>\n",
       "  </tbody>\n",
       "</table>\n",
       "</div>"
      ],
      "text/plain": [
       "              Year           Mo           Tu           We           Th  \\\n",
       "count  9507.000000  9507.000000  9507.000000  9507.000000  9507.000000   \n",
       "mean   2009.508467     0.008888     0.072679     0.037668     0.044975   \n",
       "std       5.723998     1.520621     1.328547     1.414532     1.391195   \n",
       "min    2000.000000   -16.666670   -10.561794   -14.443789   -14.396521   \n",
       "25%    2005.000000    -0.588363    -0.465719    -0.589092    -0.526921   \n",
       "50%    2010.000000     0.061652     0.000000     0.035211     0.042772   \n",
       "75%    2015.000000     0.685190     0.607615     0.671833     0.682195   \n",
       "max    2019.000000    16.474647    15.705618    16.101695    15.543491   \n",
       "\n",
       "                Fr  \n",
       "count  9507.000000  \n",
       "mean     -0.034612  \n",
       "std       1.249656  \n",
       "min      -8.115132  \n",
       "25%      -0.584804  \n",
       "50%       0.000000  \n",
       "75%       0.593503  \n",
       "max      11.844084  "
      ]
     },
     "execution_count": 43,
     "metadata": {},
     "output_type": "execute_result"
    }
   ],
   "source": [
    "# Check basic stat\n",
    "dataout2.describe()"
   ]
  },
  {
   "cell_type": "code",
   "execution_count": 44,
   "metadata": {},
   "outputs": [],
   "source": [
    "# Data into output file\n",
    "outfile = os.path.join(\"..\", \"OutputData\", \"TickersDataSet2.csv\")\n",
    "dataout2.to_csv(outfile)"
   ]
  },
  {
   "cell_type": "markdown",
   "metadata": {},
   "source": [
    "### Dataset 1"
   ]
  },
  {
   "cell_type": "code",
   "execution_count": 45,
   "metadata": {},
   "outputs": [
    {
     "name": "stdout",
     "output_type": "stream",
     "text": [
      "Running data extraction 1 ...\n",
      "Ticker: XLB XLC XLE XLF XLI XLK XLP XLRE XLU XLV XLY \n",
      "... done.\n"
     ]
    },
    {
     "data": {
      "text/html": [
       "<div>\n",
       "<style scoped>\n",
       "    .dataframe tbody tr th:only-of-type {\n",
       "        vertical-align: middle;\n",
       "    }\n",
       "\n",
       "    .dataframe tbody tr th {\n",
       "        vertical-align: top;\n",
       "    }\n",
       "\n",
       "    .dataframe thead th {\n",
       "        text-align: right;\n",
       "    }\n",
       "</style>\n",
       "<table border=\"1\" class=\"dataframe\">\n",
       "  <thead>\n",
       "    <tr style=\"text-align: right;\">\n",
       "      <th></th>\n",
       "      <th>Ticker</th>\n",
       "      <th>Fr..Mo</th>\n",
       "      <th>Tu..Th</th>\n",
       "    </tr>\n",
       "    <tr>\n",
       "      <th>Year.Week</th>\n",
       "      <th></th>\n",
       "      <th></th>\n",
       "      <th></th>\n",
       "    </tr>\n",
       "  </thead>\n",
       "  <tbody>\n",
       "    <tr>\n",
       "      <th>2000.02</th>\n",
       "      <td>XLB</td>\n",
       "      <td>-0.199079</td>\n",
       "      <td>-0.742440</td>\n",
       "    </tr>\n",
       "    <tr>\n",
       "      <th>2000.03</th>\n",
       "      <td>XLB</td>\n",
       "      <td>-1.547886</td>\n",
       "      <td>-1.506939</td>\n",
       "    </tr>\n",
       "    <tr>\n",
       "      <th>2000.04</th>\n",
       "      <td>XLB</td>\n",
       "      <td>-1.104810</td>\n",
       "      <td>-0.451896</td>\n",
       "    </tr>\n",
       "    <tr>\n",
       "      <th>2000.05</th>\n",
       "      <td>XLB</td>\n",
       "      <td>-1.145301</td>\n",
       "      <td>0.178611</td>\n",
       "    </tr>\n",
       "    <tr>\n",
       "      <th>2000.06</th>\n",
       "      <td>XLB</td>\n",
       "      <td>-1.032632</td>\n",
       "      <td>-1.020417</td>\n",
       "    </tr>\n",
       "  </tbody>\n",
       "</table>\n",
       "</div>"
      ],
      "text/plain": [
       "          Ticker    Fr..Mo    Tu..Th\n",
       "Year.Week                           \n",
       "2000.02      XLB -0.199079 -0.742440\n",
       "2000.03      XLB -1.547886 -1.506939\n",
       "2000.04      XLB -1.104810 -0.451896\n",
       "2000.05      XLB -1.145301  0.178611\n",
       "2000.06      XLB -1.032632 -1.020417"
      ]
     },
     "execution_count": 45,
     "metadata": {},
     "output_type": "execute_result"
    }
   ],
   "source": [
    "# Get dataset1\n",
    "dataout1 = main(1)\n",
    "dataout1.head()"
   ]
  },
  {
   "cell_type": "code",
   "execution_count": 46,
   "metadata": {},
   "outputs": [
    {
     "name": "stdout",
     "output_type": "stream",
     "text": [
      "            Fr..Mo       Tu..Th\n",
      "count  9507.000000  9507.000000\n",
      "mean     -0.011068     0.051567\n",
      "std       0.999154     0.786441\n",
      "min      -9.519040    -7.696630\n",
      "25%      -0.424181    -0.322733\n",
      "50%       0.052054     0.057008\n",
      "75%       0.480267     0.427015\n",
      "max       9.597100    10.010644\n",
      "ΣFr..Mo: -210.45%  ΣTu..Th: 1470.73%\n"
     ]
    }
   ],
   "source": [
    "# Check basic stat\n",
    "print(dataout1.describe())\n",
    "delta1sum = dataout1[delta1].sum()\n",
    "delta2sum = dataout1[delta2].sum()\n",
    "print(f\"Σ{delta1}: {round(delta1sum * 2,2)}%  Σ{delta2}: {round(delta2sum * 3,2)}%\")"
   ]
  },
  {
   "cell_type": "code",
   "execution_count": 47,
   "metadata": {},
   "outputs": [
    {
     "data": {
      "text/plain": [
       "Ttest_indResult(statistic=4.802969752927025, pvalue=1.5752034038507425e-06)"
      ]
     },
     "execution_count": 47,
     "metadata": {},
     "output_type": "execute_result"
    }
   ],
   "source": [
    "# T-Test - ticker sum\n",
    "ttest_ind(dataout1[delta2], dataout1[delta1])"
   ]
  },
  {
   "cell_type": "code",
   "execution_count": 48,
   "metadata": {},
   "outputs": [
    {
     "name": "stdout",
     "output_type": "stream",
     "text": [
      "XLB (1028x): Ttest_indResult(statistic=1.656288288215433, pvalue=0.09781619136659685)\n",
      "XLC (57x): Ttest_indResult(statistic=1.6923032631990966, pvalue=0.09336841084906397)\n",
      "XLE (1028x): Ttest_indResult(statistic=0.8162792725856293, pvalue=0.4144350810474662)\n",
      "XLF (1028x): Ttest_indResult(statistic=1.900462831190552, pvalue=0.057512295232879554)\n",
      "XLI (1028x): Ttest_indResult(statistic=1.9379509238497887, pvalue=0.05276610089006365)\n",
      "XLK (1028x): Ttest_indResult(statistic=2.5219383540423923, pvalue=0.011746065898074821)\n",
      "XLP (1028x): Ttest_indResult(statistic=1.1669607570562275, pvalue=0.2433616778317134)\n",
      "XLRE (198x): Ttest_indResult(statistic=-0.21085102219487398, pvalue=0.8331125303436516)\n",
      "XLU (1028x): Ttest_indResult(statistic=-1.18788467605335, pvalue=0.2350161877174093)\n",
      "XLV (1028x): Ttest_indResult(statistic=3.149233258114223, pvalue=0.0016605333203467184)\n",
      "XLY (1028x): Ttest_indResult(statistic=2.1378704758256153, pvalue=0.03264498124794844)\n"
     ]
    }
   ],
   "source": [
    "# T-Test - individual tickers\n",
    "for ticker in tickers:\n",
    "    df = dataout1[dataout1['Ticker'] == ticker]\n",
    "    print(f\"{ticker} ({len(df)}x): {ttest_ind(df[delta2], df[delta1])}\")"
   ]
  },
  {
   "cell_type": "code",
   "execution_count": 49,
   "metadata": {},
   "outputs": [],
   "source": [
    "# Data into output file\n",
    "outfile = os.path.join(\"..\", \"OutputData\", \"TickersDataSet1.csv\")\n",
    "dataout1.to_csv(outfile)"
   ]
  },
  {
   "cell_type": "markdown",
   "metadata": {},
   "source": [
    "### Charts"
   ]
  },
  {
   "cell_type": "code",
   "execution_count": 50,
   "metadata": {},
   "outputs": [
    {
     "data": {
      "text/plain": [
       "Text(0.5, 0.98, 'Stock value change (%) count from Monday to Thurday')"
      ]
     },
     "execution_count": 50,
     "metadata": {},
     "output_type": "execute_result"
    },
    {
     "data": {
      "image/png": "[encoded data removed]",
      "text/plain": [
       "<Figure size 1440x504 with 1 Axes>"
      ]
     },
     "metadata": {
      "needs_background": "light"
     },
     "output_type": "display_data"
    },
    {
     "data": {
      "image/png": "[encoded data removed]",
      "text/plain": [
       "<Figure size 1440x504 with 1 Axes>"
      ]
     },
     "metadata": {
      "needs_background": "light"
     },
     "output_type": "display_data"
    }
   ],
   "source": [
    "# Check values distribution\n",
    "hist = dataout1.hist(bins=1000, figsize=(20,7), column=delta1)\n",
    "plt.suptitle(\"Stock value change (%) count from Thurday to Monday\")\n",
    "hist = dataout1.hist(bins=1000, figsize=(20,7), column=delta2)\n",
    "plt.suptitle(\"Stock value change (%) count from Monday to Thurday\")"
   ]
  },
  {
   "cell_type": "code",
   "execution_count": 52,
   "metadata": {},
   "outputs": [
    {
     "data": {
      "image/png": "[encoded data removed]",
      "text/plain": [
       "<Figure size 1440x360 with 1 Axes>"
      ]
     },
     "metadata": {
      "needs_background": "light"
     },
     "output_type": "display_data"
    },
    {
     "data": {
      "text/plain": [
       "<Figure size 432x288 with 0 Axes>"
      ]
     },
     "metadata": {},
     "output_type": "display_data"
    }
   ],
   "source": [
    "    dataout3= dataout1.groupby(\"Ticker\")\n",
    "    dataout3_df=dataout3.mean()\n",
    "    ticker_plot= dataout3_df.plot(kind=\"bar\", figsize=(20,5))\n",
    "    ticker_plot.set_xticklabels(dataout3_df.index, rotation=45)\n",
    "    plt.show()\n",
    "    plt.tight_layout()\n",
    "  "
   ]
  },
  {
   "cell_type": "code",
   "execution_count": 60,
   "metadata": {
    "scrolled": true
   },
   "outputs": [
    {
     "data": {
      "image/png": "[encoded data removed]",
      "text/plain": [
       "<Figure size 1440x360 with 1 Axes>"
      ]
     },
     "metadata": {
      "needs_background": "light"
     },
     "output_type": "display_data"
    },
    {
     "data": {
      "text/plain": [
       "<Figure size 432x288 with 0 Axes>"
      ]
     },
     "metadata": {},
     "output_type": "display_data"
    }
   ],
   "source": [
    "    dataout4= dataout2.groupby(\"Ticker\")\n",
    "    dataout4_df=dataout4.mean()\n",
    "    dataout4_df.head()\n",
    "    dataout5_df= dataout4_df.drop(columns=\"Year\")\n",
    "    ticker_plot= dataout5_df.plot(kind=\"bar\", figsize=(20,5))\n",
    "    ticker_plot.set_xticklabels(dataout5_df.index, rotation=45)\n",
    "    plt.show()\n",
    "    plt.tight_layout()\n",
    "   "
   ]
  },
  {
   "cell_type": "code",
   "execution_count": 96,
   "metadata": {},
   "outputs": [
    {
     "data": {
      "text/plain": [
       "Ticker    XLBXLBXLBXLBXLBXLBXLBXLBXLBXLBXLBXLBXLBXLBXLBX...\n",
       "Fr..Mo                                             -105.225\n",
       "Tu..Th                                              490.245\n",
       "Name: 0, dtype: object"
      ]
     },
     "execution_count": 96,
     "metadata": {},
     "output_type": "execute_result"
    }
   ],
   "source": [
    "    total6=pd.DataFrame(dataout1.sum())\n",
    "\n",
    "total6[]\n"
   ]
  },
  {
   "cell_type": "code",
   "execution_count": 100,
   "metadata": {},
   "outputs": [],
   "source": [
    "rows1=total6.iloc[1:3]"
   ]
  },
  {
   "cell_type": "code",
   "execution_count": 101,
   "metadata": {},
   "outputs": [
    {
     "data": {
      "text/html": [
       "<div>\n",
       "<style scoped>\n",
       "    .dataframe tbody tr th:only-of-type {\n",
       "        vertical-align: middle;\n",
       "    }\n",
       "\n",
       "    .dataframe tbody tr th {\n",
       "        vertical-align: top;\n",
       "    }\n",
       "\n",
       "    .dataframe thead th {\n",
       "        text-align: right;\n",
       "    }\n",
       "</style>\n",
       "<table border=\"1\" class=\"dataframe\">\n",
       "  <thead>\n",
       "    <tr style=\"text-align: right;\">\n",
       "      <th></th>\n",
       "      <th>0</th>\n",
       "    </tr>\n",
       "  </thead>\n",
       "  <tbody>\n",
       "    <tr>\n",
       "      <th>Fr..Mo</th>\n",
       "      <td>-105.225</td>\n",
       "    </tr>\n",
       "    <tr>\n",
       "      <th>Tu..Th</th>\n",
       "      <td>490.245</td>\n",
       "    </tr>\n",
       "  </tbody>\n",
       "</table>\n",
       "</div>"
      ],
      "text/plain": [
       "              0\n",
       "Fr..Mo -105.225\n",
       "Tu..Th  490.245"
      ]
     },
     "execution_count": 101,
     "metadata": {},
     "output_type": "execute_result"
    }
   ],
   "source": [
    "rows1"
   ]
  },
  {
   "cell_type": "code",
   "execution_count": 104,
   "metadata": {},
   "outputs": [],
   "source": [
    "rows1T=rows1.T"
   ]
  },
  {
   "cell_type": "code",
   "execution_count": 105,
   "metadata": {},
   "outputs": [
    {
     "data": {
      "text/html": [
       "<div>\n",
       "<style scoped>\n",
       "    .dataframe tbody tr th:only-of-type {\n",
       "        vertical-align: middle;\n",
       "    }\n",
       "\n",
       "    .dataframe tbody tr th {\n",
       "        vertical-align: top;\n",
       "    }\n",
       "\n",
       "    .dataframe thead th {\n",
       "        text-align: right;\n",
       "    }\n",
       "</style>\n",
       "<table border=\"1\" class=\"dataframe\">\n",
       "  <thead>\n",
       "    <tr style=\"text-align: right;\">\n",
       "      <th></th>\n",
       "      <th>Fr..Mo</th>\n",
       "      <th>Tu..Th</th>\n",
       "    </tr>\n",
       "  </thead>\n",
       "  <tbody>\n",
       "    <tr>\n",
       "      <th>0</th>\n",
       "      <td>-105.225</td>\n",
       "      <td>490.245</td>\n",
       "    </tr>\n",
       "  </tbody>\n",
       "</table>\n",
       "</div>"
      ],
      "text/plain": [
       "    Fr..Mo   Tu..Th\n",
       "0 -105.225  490.245"
      ]
     },
     "execution_count": 105,
     "metadata": {},
     "output_type": "execute_result"
    }
   ],
   "source": [
    "rows1T"
   ]
  },
  {
   "cell_type": "code",
   "execution_count": 108,
   "metadata": {},
   "outputs": [
    {
     "data": {
      "image/png": "[encoded data removed]",
      "text/plain": [
       "<Figure size 360x360 with 1 Axes>"
      ]
     },
     "metadata": {
      "needs_background": "light"
     },
     "output_type": "display_data"
    },
    {
     "data": {
      "text/plain": [
       "<Figure size 432x288 with 0 Axes>"
      ]
     },
     "metadata": {},
     "output_type": "display_data"
    }
   ],
   "source": [
    "    total_plot= rows1T.plot(kind=\"bar\", figsize=(5,5))\n",
    "    total_plot.set_xticklabels(rows1T.index, rotation=45)\n",
    "    plt.show()\n",
    "    plt.tight_layout()"
   ]
  },
  {
   "cell_type": "code",
   "execution_count": null,
   "metadata": {},
   "outputs": [],
   "source": []
  }
 ],
 "metadata": {
  "kernelspec": {
   "display_name": "Python 36 (PythonData)",
   "language": "python",
   "name": "pythondata"
  },
  "language_info": {
   "codemirror_mode": {
    "name": "ipython",
    "version": 3
   },
   "file_extension": ".py",
   "mimetype": "text/x-python",
   "name": "python",
   "nbconvert_exporter": "python",
   "pygments_lexer": "ipython3",
   "version": "3.6.8"
  }
 },
 "nbformat": 4,
 "nbformat_minor": 2
}
