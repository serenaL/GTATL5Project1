{
 "cells": [
  {
   "cell_type": "markdown",
   "metadata": {},
   "source": [
    "## Read input data and turn it into data frame"
   ]
  },
  {
   "cell_type": "code",
   "execution_count": 6,
   "metadata": {},
   "outputs": [],
   "source": [
    "# Dependancies\n",
    "import csv\n",
    "import os\n",
    "import pandas as pd "
   ]
  },
  {
   "cell_type": "code",
   "execution_count": 8,
   "metadata": {},
   "outputs": [
    {
     "data": {
      "text/html": [
       "<div>\n",
       "<style scoped>\n",
       "    .dataframe tbody tr th:only-of-type {\n",
       "        vertical-align: middle;\n",
       "    }\n",
       "\n",
       "    .dataframe tbody tr th {\n",
       "        vertical-align: top;\n",
       "    }\n",
       "\n",
       "    .dataframe thead th {\n",
       "        text-align: right;\n",
       "    }\n",
       "</style>\n",
       "<table border=\"1\" class=\"dataframe\">\n",
       "  <thead>\n",
       "    <tr style=\"text-align: right;\">\n",
       "      <th></th>\n",
       "      <th>Date</th>\n",
       "      <th>Open</th>\n",
       "      <th>High</th>\n",
       "      <th>Low</th>\n",
       "      <th>Close</th>\n",
       "      <th>Adj Close</th>\n",
       "      <th>Volume</th>\n",
       "    </tr>\n",
       "  </thead>\n",
       "  <tbody>\n",
       "    <tr>\n",
       "      <th>0</th>\n",
       "      <td>1/3/2000</td>\n",
       "      <td>26.671881</td>\n",
       "      <td>26.687500</td>\n",
       "      <td>25.937500</td>\n",
       "      <td>25.968750</td>\n",
       "      <td>16.565908</td>\n",
       "      <td>140500</td>\n",
       "    </tr>\n",
       "    <tr>\n",
       "      <th>1</th>\n",
       "      <td>1/4/2000</td>\n",
       "      <td>26.000000</td>\n",
       "      <td>26.046881</td>\n",
       "      <td>25.609381</td>\n",
       "      <td>25.718750</td>\n",
       "      <td>16.406433</td>\n",
       "      <td>258000</td>\n",
       "    </tr>\n",
       "    <tr>\n",
       "      <th>2</th>\n",
       "      <td>1/5/2000</td>\n",
       "      <td>26.015619</td>\n",
       "      <td>26.812500</td>\n",
       "      <td>25.750000</td>\n",
       "      <td>26.781250</td>\n",
       "      <td>17.084217</td>\n",
       "      <td>102700</td>\n",
       "    </tr>\n",
       "    <tr>\n",
       "      <th>3</th>\n",
       "      <td>1/6/2000</td>\n",
       "      <td>26.796881</td>\n",
       "      <td>27.734381</td>\n",
       "      <td>26.781250</td>\n",
       "      <td>27.468750</td>\n",
       "      <td>17.522791</td>\n",
       "      <td>1335000</td>\n",
       "    </tr>\n",
       "    <tr>\n",
       "      <th>4</th>\n",
       "      <td>1/7/2000</td>\n",
       "      <td>27.750000</td>\n",
       "      <td>27.937500</td>\n",
       "      <td>27.453119</td>\n",
       "      <td>27.453119</td>\n",
       "      <td>17.512810</td>\n",
       "      <td>620100</td>\n",
       "    </tr>\n",
       "  </tbody>\n",
       "</table>\n",
       "</div>"
      ],
      "text/plain": [
       "       Date       Open       High        Low      Close  Adj Close   Volume\n",
       "0  1/3/2000  26.671881  26.687500  25.937500  25.968750  16.565908   140500\n",
       "1  1/4/2000  26.000000  26.046881  25.609381  25.718750  16.406433   258000\n",
       "2  1/5/2000  26.015619  26.812500  25.750000  26.781250  17.084217   102700\n",
       "3  1/6/2000  26.796881  27.734381  26.781250  27.468750  17.522791  1335000\n",
       "4  1/7/2000  27.750000  27.937500  27.453119  27.453119  17.512810   620100"
      ]
     },
     "execution_count": 8,
     "metadata": {},
     "output_type": "execute_result"
    }
   ],
   "source": [
    "# Input file\n",
    "input_file = os.path.join(\"..\", \"XLB.csv\")\n",
    "\n",
    "data = pd.read_csv(input_file) \n",
    "data.head()"
   ]
  },
  {
   "cell_type": "code",
   "execution_count": null,
   "metadata": {},
   "outputs": [],
   "source": []
  }
 ],
 "metadata": {
  "kernelspec": {
   "display_name": "BCproject1",
   "language": "python",
   "name": "bcproject1"
  },
  "language_info": {
   "codemirror_mode": {
    "name": "ipython",
    "version": 3
   },
   "file_extension": ".py",
   "mimetype": "text/x-python",
   "name": "python",
   "nbconvert_exporter": "python",
   "pygments_lexer": "ipython3",
   "version": "3.6.8"
  }
 },
 "nbformat": 4,
 "nbformat_minor": 2
}
