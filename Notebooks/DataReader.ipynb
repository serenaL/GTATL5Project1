{
 "cells": [
  {
   "cell_type": "markdown",
   "metadata": {},
   "source": [
    "## Read input data and turn it into data frame"
   ]
  },
  {
   "cell_type": "code",
   "execution_count": 8,
   "metadata": {},
   "outputs": [],
   "source": [
    "# Dependancies\n",
    "import csv\n",
    "import os\n",
    "import pandas as pd "
   ]
  },
  {
   "cell_type": "code",
   "execution_count": 9,
   "metadata": {},
   "outputs": [],
   "source": [
    "# Supporting functions\n",
    "def get_filename(ticker):\n",
    "    return os.path.join(\"..\", \"InputData\", ticker + \".csv\")"
   ]
  },
  {
   "cell_type": "code",
   "execution_count": 10,
   "metadata": {},
   "outputs": [],
   "source": [
    "# Read input data into dataframe\n",
    "def read_ticker(file_name):\n",
    "    # Input file into dataframe\n",
    "    rawdata = pd.read_csv(file_name) \n",
    "    # Date into date type, date of week, week of year, Gain\n",
    "    rawdata.Date = rawdata.Date.astype('datetime64[ns]')\n",
    "    # isocalendar reports end of the year as 1st week - see 12/31/2008\n",
    "    #rawdata['YearWeek'] = [ td.year + td.isocalendar()[1] / 100 for td in rawdata.Date] \n",
    "    rawdata['YearWeek'] = [ td.year + (int(td.strftime(\"%W\")) + 1) / 100 for td in rawdata.Date]\n",
    "    rawdata['Weekday'] = [ td.weekday() for td in rawdata.Date]\n",
    "    rawdata['GainPct'] = (rawdata.Close - rawdata.Open) / rawdata.Open\n",
    "    \n",
    "    # Pivot data into new df\n",
    "    return rawdata.pivot(index='YearWeek', columns='Weekday', values='GainPct')"
   ]
  },
  {
   "cell_type": "code",
   "execution_count": 11,
   "metadata": {},
   "outputs": [],
   "source": [
    "# Sum data\n",
    "def sum_ticker(ticker):\n",
    "    df = read_ticker(get_filename(ticker))\n",
    "    result = pd.DataFrame([df.sum(axis = 0, skipna = True) * 100])\n",
    "    result.insert(0, \"Ticker\", ticker)\n",
    "    return result"
   ]
  },
  {
   "cell_type": "code",
   "execution_count": null,
   "metadata": {},
   "outputs": [
    {
     "name": "stdout",
     "output_type": "stream",
     "text": [
      "XLB\n",
      "XLC\n",
      "XLE\n",
      "XLF\n",
      "XLI\n",
      "XLK\n",
      "XLP\n",
      "XLRE\n",
      "XLU\n",
      "XLV\n"
     ]
    }
   ],
   "source": [
    "# Sum tickers\n",
    "tickers = [\"XLB\",\"XLC\",\"XLE\",\"XLF\",\"XLI\",\"XLK\",\"XLP\",\"XLRE\", \"XLU\", \"XLV\", \"XLY\"]\n",
    "\n",
    "df = pd.DataFrame()\n",
    "\n",
    "for ticker in tickers:\n",
    "    print(ticker)\n",
    "    df = df.append(sum_ticker(ticker))\n",
    "\n",
    "df"
   ]
  },
  {
   "cell_type": "code",
   "execution_count": null,
   "metadata": {},
   "outputs": [],
   "source": [
    "# Total sum\n",
    "total = pd.DataFrame([df.sum(axis = 0, skipna = True)])\n",
    "total = total.drop(['Ticker'], axis=1)\n",
    "total"
   ]
  },
  {
   "cell_type": "code",
   "execution_count": null,
   "metadata": {},
   "outputs": [],
   "source": [
    "# Add column with maximum gain of the week\n",
    "middata['MaxGainDay'] = middata.idxmax(axis=1)\n",
    "middata.head()"
   ]
  },
  {
   "cell_type": "code",
   "execution_count": null,
   "metadata": {},
   "outputs": [],
   "source": [
    "# Count days with highest weekly gains / minimal loses\n",
    "#middata.groupby('MaxGainDay').size()"
   ]
  },
  {
   "cell_type": "code",
   "execution_count": null,
   "metadata": {},
   "outputs": [],
   "source": [
    "# Sum gains total in %\n"
   ]
  },
  {
   "cell_type": "code",
   "execution_count": null,
   "metadata": {},
   "outputs": [],
   "source": []
  }
 ],
 "metadata": {
  "kernelspec": {
   "display_name": "BCproject1",
   "language": "python",
   "name": "bcproject1"
  },
  "language_info": {
   "codemirror_mode": {
    "name": "ipython",
    "version": 3
   },
   "file_extension": ".py",
   "mimetype": "text/x-python",
   "name": "python",
   "nbconvert_exporter": "python",
   "pygments_lexer": "ipython3",
   "version": "3.6.8"
  }
 },
 "nbformat": 4,
 "nbformat_minor": 2
}
