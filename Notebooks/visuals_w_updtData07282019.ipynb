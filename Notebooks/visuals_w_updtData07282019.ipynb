{
 "cells": [
  {
   "cell_type": "markdown",
   "metadata": {},
   "source": [
    "### Code reads stock values from csv file\n",
    "* Location of input files is set in get_filename\n",
    "* Location of output file is set in separate cell\n",
    "* Run Main method to get all values for ticker listed in it\n",
    "* Values changes are in  %\n",
    "* ToDo: check if input file exists\n",
    "* Modified functions to support two types of outputs: dataset1, dataset2; see comments below for details"
   ]
  },
  {
   "cell_type": "code",
   "execution_count": 2,
   "metadata": {},
   "outputs": [],
   "source": [
    "# Dependencies\n",
    "import csv\n",
    "import os\n",
    "import pandas as pd \n",
    "import matplotlib.pyplot as plt\n",
    "from scipy.stats import ttest_ind"
   ]
  },
  {
   "cell_type": "markdown",
   "metadata": {},
   "source": [
    "### Subroutines"
   ]
  },
  {
   "cell_type": "code",
   "execution_count": 3,
   "metadata": {},
   "outputs": [],
   "source": [
    "# Supporting functions\n",
    "def get_filename(ticker):\n",
    "    return os.path.join(\"..\", \"InputData\", ticker + \".csv\") # use relative location of the input files to the notebook\n",
    "\n",
    "# Calculate relative change\n",
    "def get_changepct(a, b):\n",
    "    return 100 * (b - a) /  a  "
   ]
  },
  {
   "cell_type": "code",
   "execution_count": 4,
   "metadata": {},
   "outputs": [],
   "source": [
    "weekdays = ['Mo', 'Tu', 'We', 'Th', 'Fr']\n",
    "\n",
    "def read_ticker_file(file_name):\n",
    "    # Input file into dataframe\n",
    "    rawdata = pd.read_csv(file_name) \n",
    "    # Date into date type, date of week, week of year, Close value\n",
    "    rawdata.Date = rawdata.Date.astype('datetime64[ns]')\n",
    "    rawdata['Year.Week'] = [ td.year + (int(td.strftime(\"%W\"))) / 100 for td in rawdata.Date] # YYYY.0W\n",
    "    rawdata['Weekday'] = [ td.weekday() for td in rawdata.Date]\n",
    "    rawdata['CloseValue'] = rawdata.Close # calculations use close values\n",
    "    \n",
    "    # Pivot data\n",
    "    return rawdata.pivot(index='Year.Week', columns='Weekday', values='CloseValue')\n",
    "\n",
    "def get_ticker_data(ticker):\n",
    "    # Read data from input file, calculate changes between two days\n",
    "    middata = read_ticker_file(get_filename(ticker))\n",
    "    middata.columns = weekdays# change column names, pandas does not like numerical values (?)\n",
    "    return middata"
   ]
  },
  {
   "cell_type": "code",
   "execution_count": 5,
   "metadata": {},
   "outputs": [],
   "source": [
    "# Names for columns with calculated values\n",
    "delta1 = 'Fr..Mo' \n",
    "delta2 = 'Tu..Th'\n",
    "\n",
    "def get_dataset1(ticker):\n",
    "    # This dataset has index, Ticker, and Th..Mo, Mo..Th delta values\n",
    "    midset1 = get_ticker_data(ticker)\n",
    "    \n",
    "    # Replace NA values in the end of the week with previous non NA \n",
    "    #midset1 = midset1.fillna(method='ffill', axis=1)\n",
    "\n",
    "    # Replace NA values at the beginning of the week with following non NA \n",
    "    #midset1 = midset1.fillna(method='bfill', axis=1)\n",
    "\n",
    "    # New row with Thursday value from previous week, move the column values one row down\n",
    "    midset1['Tmp'] = midset1.Th.shift(1)\n",
    "    \n",
    "    # Relative price change from previous week Thursday to this Monday per day\n",
    "    midset1[delta1] = get_changepct(midset1.Tmp, midset1.Mo) / 2\n",
    "    \n",
    "    # Relative price change from this week Monday to this week Thursday per day\n",
    "    midset1[delta2] = get_changepct(midset1.Mo, midset1.Th) / 3 \n",
    "\n",
    "    # Drop temporaty column\n",
    "    midset1 = midset1.drop('Tmp', axis=1)\n",
    "    \n",
    "    # Clean input data\n",
    "    # Drop rows wiht NA values; run this before columns reduction\n",
    "    cleanset1 = midset1.dropna()\n",
    "    # Drop unused columns\n",
    "    cleanset1 = cleanset1.loc[:, [delta1, delta2]]\n",
    " \n",
    "    # Tiker into new column\n",
    "    cleanset1.insert(loc=0, column='Ticker', value=ticker)\n",
    "\n",
    "    return cleanset1"
   ]
  },
  {
   "cell_type": "code",
   "execution_count": 6,
   "metadata": {},
   "outputs": [],
   "source": [
    "def get_dataset2(ticker):\n",
    "    # This dataset has index, Ticker, and Th..Mo, Mo..Th delta values\n",
    "    midset2 = get_ticker_data(ticker)\n",
    "\n",
    "    # Replace NA values in the end of the week with previous non NA \n",
    "    midset2 = midset2.fillna(method='ffill', axis=1)\n",
    "\n",
    "    # Replace NA values at the beginning of the week with following non NA \n",
    "    midset2 = midset2.fillna(method='bfill', axis=1)\n",
    "    \n",
    "    # Move the column values one row down, it's used for cross week change calculation\n",
    "    midset2['Tmp'] = midset2.Fr.shift(1) \n",
    "    \n",
    "    # Calculate relative value changes for each weekday\n",
    "    midset2['Fr'] = get_changepct(midset2.Th, midset2.Fr)\n",
    "    midset2['Th'] = get_changepct(midset2.We, midset2.Th)\n",
    "    midset2['We'] = get_changepct(midset2.Tu, midset2.We)\n",
    "    midset2['Tu'] = get_changepct(midset2.Mo, midset2.Tu)\n",
    "    midset2['Mo'] = get_changepct(midset2.Tmp, midset2.Mo)\n",
    "\n",
    "    # Drop temporaty column\n",
    "    midset2 = midset2.drop('Tmp', axis=1) \n",
    "    \n",
    "    # Clean input data\n",
    "    cleanset2 = midset2.dropna() # drop rows wiht n/a values; run this before columns reduction \n",
    "    cleanset2.insert(loc=0, column='Ticker', value=ticker)\n",
    "    cleanset2.insert(loc=1, column='Year', value=cleanset2.index)\n",
    "    cleanset2.Year = cleanset2.Year.astype(int) # get year number by column data type change\n",
    "    return cleanset2"
   ]
  },
  {
   "cell_type": "code",
   "execution_count": 7,
   "metadata": {},
   "outputs": [],
   "source": [
    "tickers = [\"XLB\",\"XLC\",\"XLE\",\"XLF\",\"XLI\",\"XLK\",\"XLP\",\"XLRE\",\"XLU\",\"XLV\",\"XLY\"]\n",
    "\n",
    "# Main method, call it to extract data from input file into DataFrame\n",
    "def main(setnr):\n",
    "    # List of tickers\n",
    "    outputdf = pd.DataFrame()\n",
    "\n",
    "    print(f\"Running data extraction {setnr} ...\")\n",
    "    print(\"Ticker: \", end = '')\n",
    "    for ticker in tickers:\n",
    "        if(setnr == 1):\n",
    "            outputdf = outputdf.append(get_dataset1(ticker))\n",
    "        elif(setnr == 2):\n",
    "            outputdf = outputdf.append(get_dataset2(ticker))\n",
    "        else:\n",
    "            continue\n",
    "        print(ticker, end = ' ')\n",
    "    print(\"\")\n",
    "    print(\"... done.\")\n",
    "\n",
    "    return outputdf"
   ]
  },
  {
   "cell_type": "markdown",
   "metadata": {},
   "source": [
    "### Dataset 2"
   ]
  },
  {
   "cell_type": "code",
   "execution_count": 8,
   "metadata": {},
   "outputs": [
    {
     "name": "stdout",
     "output_type": "stream",
     "text": [
      "Running data extraction 2 ...\n",
      "Ticker: "
     ]
    },
    {
     "name": "stderr",
     "output_type": "stream",
     "text": [
      "/Users/serenaleung/anaconda3/envs/p1/lib/python3.6/site-packages/pandas/core/generic.py:5209: SettingWithCopyWarning: \n",
      "A value is trying to be set on a copy of a slice from a DataFrame.\n",
      "Try using .loc[row_indexer,col_indexer] = value instead\n",
      "\n",
      "See the caveats in the documentation: http://pandas.pydata.org/pandas-docs/stable/user_guide/indexing.html#returning-a-view-versus-a-copy\n",
      "  self[name] = value\n"
     ]
    },
    {
     "name": "stdout",
     "output_type": "stream",
     "text": [
      "XLB XLC XLE XLF XLI XLK XLP XLRE XLU XLV XLY \n",
      "... done.\n"
     ]
    },
    {
     "data": {
      "text/html": [
       "<div>\n",
       "<style scoped>\n",
       "    .dataframe tbody tr th:only-of-type {\n",
       "        vertical-align: middle;\n",
       "    }\n",
       "\n",
       "    .dataframe tbody tr th {\n",
       "        vertical-align: top;\n",
       "    }\n",
       "\n",
       "    .dataframe thead th {\n",
       "        text-align: right;\n",
       "    }\n",
       "</style>\n",
       "<table border=\"1\" class=\"dataframe\">\n",
       "  <thead>\n",
       "    <tr style=\"text-align: right;\">\n",
       "      <th></th>\n",
       "      <th>Ticker</th>\n",
       "      <th>Year</th>\n",
       "      <th>Mo</th>\n",
       "      <th>Tu</th>\n",
       "      <th>We</th>\n",
       "      <th>Th</th>\n",
       "      <th>Fr</th>\n",
       "    </tr>\n",
       "    <tr>\n",
       "      <th>Year.Week</th>\n",
       "      <th></th>\n",
       "      <th></th>\n",
       "      <th></th>\n",
       "      <th></th>\n",
       "      <th></th>\n",
       "      <th></th>\n",
       "      <th></th>\n",
       "    </tr>\n",
       "  </thead>\n",
       "  <tbody>\n",
       "    <tr>\n",
       "      <th>2000.02</th>\n",
       "      <td>XLB</td>\n",
       "      <td>2000</td>\n",
       "      <td>-0.341448</td>\n",
       "      <td>-1.199336</td>\n",
       "      <td>-1.445109</td>\n",
       "      <td>0.410580</td>\n",
       "      <td>-0.700935</td>\n",
       "    </tr>\n",
       "    <tr>\n",
       "      <th>2000.03</th>\n",
       "      <td>XLB</td>\n",
       "      <td>2000</td>\n",
       "      <td>-2.411742</td>\n",
       "      <td>0.000000</td>\n",
       "      <td>-1.928872</td>\n",
       "      <td>-2.642924</td>\n",
       "      <td>0.441943</td>\n",
       "    </tr>\n",
       "    <tr>\n",
       "      <th>2000.04</th>\n",
       "      <td>XLB</td>\n",
       "      <td>2000</td>\n",
       "      <td>-2.639897</td>\n",
       "      <td>-1.872151</td>\n",
       "      <td>0.000000</td>\n",
       "      <td>0.526316</td>\n",
       "      <td>-1.701571</td>\n",
       "    </tr>\n",
       "    <tr>\n",
       "      <th>2000.05</th>\n",
       "      <td>XLB</td>\n",
       "      <td>2000</td>\n",
       "      <td>-0.599227</td>\n",
       "      <td>1.808466</td>\n",
       "      <td>0.460552</td>\n",
       "      <td>-1.702735</td>\n",
       "      <td>-0.133193</td>\n",
       "    </tr>\n",
       "    <tr>\n",
       "      <th>2000.06</th>\n",
       "      <td>XLB</td>\n",
       "      <td>2000</td>\n",
       "      <td>-1.934648</td>\n",
       "      <td>-0.272109</td>\n",
       "      <td>-1.978198</td>\n",
       "      <td>-0.835073</td>\n",
       "      <td>-2.456114</td>\n",
       "    </tr>\n",
       "  </tbody>\n",
       "</table>\n",
       "</div>"
      ],
      "text/plain": [
       "          Ticker  Year        Mo        Tu        We        Th        Fr\n",
       "Year.Week                                                               \n",
       "2000.02      XLB  2000 -0.341448 -1.199336 -1.445109  0.410580 -0.700935\n",
       "2000.03      XLB  2000 -2.411742  0.000000 -1.928872 -2.642924  0.441943\n",
       "2000.04      XLB  2000 -2.639897 -1.872151  0.000000  0.526316 -1.701571\n",
       "2000.05      XLB  2000 -0.599227  1.808466  0.460552 -1.702735 -0.133193\n",
       "2000.06      XLB  2000 -1.934648 -0.272109 -1.978198 -0.835073 -2.456114"
      ]
     },
     "execution_count": 8,
     "metadata": {},
     "output_type": "execute_result"
    }
   ],
   "source": [
    "# Run data extraction\n",
    "# Returned value is df, you can save its value into file, or use it otherwise\n",
    "dataout2 = main(2)\n",
    "dataout2.head()"
   ]
  },
  {
   "cell_type": "code",
   "execution_count": 9,
   "metadata": {},
   "outputs": [
    {
     "data": {
      "text/html": [
       "<div>\n",
       "<style scoped>\n",
       "    .dataframe tbody tr th:only-of-type {\n",
       "        vertical-align: middle;\n",
       "    }\n",
       "\n",
       "    .dataframe tbody tr th {\n",
       "        vertical-align: top;\n",
       "    }\n",
       "\n",
       "    .dataframe thead th {\n",
       "        text-align: right;\n",
       "    }\n",
       "</style>\n",
       "<table border=\"1\" class=\"dataframe\">\n",
       "  <thead>\n",
       "    <tr style=\"text-align: right;\">\n",
       "      <th></th>\n",
       "      <th>Year</th>\n",
       "      <th>Mo</th>\n",
       "      <th>Tu</th>\n",
       "      <th>We</th>\n",
       "      <th>Th</th>\n",
       "      <th>Fr</th>\n",
       "    </tr>\n",
       "  </thead>\n",
       "  <tbody>\n",
       "    <tr>\n",
       "      <th>count</th>\n",
       "      <td>9507.000000</td>\n",
       "      <td>9507.000000</td>\n",
       "      <td>9507.000000</td>\n",
       "      <td>9507.000000</td>\n",
       "      <td>9507.000000</td>\n",
       "      <td>9507.000000</td>\n",
       "    </tr>\n",
       "    <tr>\n",
       "      <th>mean</th>\n",
       "      <td>2009.508467</td>\n",
       "      <td>0.008888</td>\n",
       "      <td>0.072679</td>\n",
       "      <td>0.037668</td>\n",
       "      <td>0.044975</td>\n",
       "      <td>-0.034612</td>\n",
       "    </tr>\n",
       "    <tr>\n",
       "      <th>std</th>\n",
       "      <td>5.723998</td>\n",
       "      <td>1.520621</td>\n",
       "      <td>1.328547</td>\n",
       "      <td>1.414532</td>\n",
       "      <td>1.391195</td>\n",
       "      <td>1.249656</td>\n",
       "    </tr>\n",
       "    <tr>\n",
       "      <th>min</th>\n",
       "      <td>2000.000000</td>\n",
       "      <td>-16.666670</td>\n",
       "      <td>-10.561794</td>\n",
       "      <td>-14.443789</td>\n",
       "      <td>-14.396521</td>\n",
       "      <td>-8.115132</td>\n",
       "    </tr>\n",
       "    <tr>\n",
       "      <th>25%</th>\n",
       "      <td>2005.000000</td>\n",
       "      <td>-0.588363</td>\n",
       "      <td>-0.465719</td>\n",
       "      <td>-0.589092</td>\n",
       "      <td>-0.526921</td>\n",
       "      <td>-0.584804</td>\n",
       "    </tr>\n",
       "    <tr>\n",
       "      <th>50%</th>\n",
       "      <td>2010.000000</td>\n",
       "      <td>0.061652</td>\n",
       "      <td>0.000000</td>\n",
       "      <td>0.035211</td>\n",
       "      <td>0.042772</td>\n",
       "      <td>0.000000</td>\n",
       "    </tr>\n",
       "    <tr>\n",
       "      <th>75%</th>\n",
       "      <td>2015.000000</td>\n",
       "      <td>0.685190</td>\n",
       "      <td>0.607615</td>\n",
       "      <td>0.671833</td>\n",
       "      <td>0.682195</td>\n",
       "      <td>0.593503</td>\n",
       "    </tr>\n",
       "    <tr>\n",
       "      <th>max</th>\n",
       "      <td>2019.000000</td>\n",
       "      <td>16.474647</td>\n",
       "      <td>15.705618</td>\n",
       "      <td>16.101695</td>\n",
       "      <td>15.543491</td>\n",
       "      <td>11.844084</td>\n",
       "    </tr>\n",
       "  </tbody>\n",
       "</table>\n",
       "</div>"
      ],
      "text/plain": [
       "              Year           Mo           Tu           We           Th  \\\n",
       "count  9507.000000  9507.000000  9507.000000  9507.000000  9507.000000   \n",
       "mean   2009.508467     0.008888     0.072679     0.037668     0.044975   \n",
       "std       5.723998     1.520621     1.328547     1.414532     1.391195   \n",
       "min    2000.000000   -16.666670   -10.561794   -14.443789   -14.396521   \n",
       "25%    2005.000000    -0.588363    -0.465719    -0.589092    -0.526921   \n",
       "50%    2010.000000     0.061652     0.000000     0.035211     0.042772   \n",
       "75%    2015.000000     0.685190     0.607615     0.671833     0.682195   \n",
       "max    2019.000000    16.474647    15.705618    16.101695    15.543491   \n",
       "\n",
       "                Fr  \n",
       "count  9507.000000  \n",
       "mean     -0.034612  \n",
       "std       1.249656  \n",
       "min      -8.115132  \n",
       "25%      -0.584804  \n",
       "50%       0.000000  \n",
       "75%       0.593503  \n",
       "max      11.844084  "
      ]
     },
     "execution_count": 9,
     "metadata": {},
     "output_type": "execute_result"
    }
   ],
   "source": [
    "# Check basic stat\n",
    "dataout2.describe()"
   ]
  },
  {
   "cell_type": "code",
   "execution_count": 11,
   "metadata": {},
   "outputs": [],
   "source": [
    "# Data into output file\n",
    "outfile = os.path.join(\"..\", \"OutputData\", \"TickersDataSet2.csv\")\n",
    "dataout2.to_csv(outfile)"
   ]
  },
  {
   "cell_type": "code",
   "execution_count": 12,
   "metadata": {},
   "outputs": [
    {
     "data": {
      "text/plain": [
       "Mo    2139\n",
       "We    1941\n",
       "Th    1935\n",
       "Tu    1888\n",
       "Fr    1604\n",
       "Name: MaxDay, dtype: int64"
      ]
     },
     "execution_count": 12,
     "metadata": {},
     "output_type": "execute_result"
    }
   ],
   "source": [
    "# Number of days with best return per week\n",
    "dataout2['MaxDay'] = dataout2[weekdays].idxmax(axis=1, skipna=True)\n",
    "dataout2['MaxDay'].value_counts()"
   ]
  },
  {
   "cell_type": "code",
   "execution_count": 13,
   "metadata": {},
   "outputs": [
    {
     "data": {
      "text/plain": [
       "Mo     84.500535\n",
       "Tu    690.956984\n",
       "We    358.109388\n",
       "Th    427.581980\n",
       "Fr   -329.054936\n",
       "dtype: float64"
      ]
     },
     "execution_count": 13,
     "metadata": {},
     "output_type": "execute_result"
    }
   ],
   "source": [
    "dataout2[weekdays].sum()"
   ]
  },
  {
   "cell_type": "markdown",
   "metadata": {},
   "source": [
    "### Dataset 1"
   ]
  },
  {
   "cell_type": "code",
   "execution_count": 14,
   "metadata": {},
   "outputs": [
    {
     "name": "stdout",
     "output_type": "stream",
     "text": [
      "Running data extraction 1 ...\n",
      "Ticker: XLB XLC XLE XLF XLI XLK XLP XLRE XLU XLV XLY \n",
      "... done.\n"
     ]
    },
    {
     "data": {
      "text/html": [
       "<div>\n",
       "<style scoped>\n",
       "    .dataframe tbody tr th:only-of-type {\n",
       "        vertical-align: middle;\n",
       "    }\n",
       "\n",
       "    .dataframe tbody tr th {\n",
       "        vertical-align: top;\n",
       "    }\n",
       "\n",
       "    .dataframe thead th {\n",
       "        text-align: right;\n",
       "    }\n",
       "</style>\n",
       "<table border=\"1\" class=\"dataframe\">\n",
       "  <thead>\n",
       "    <tr style=\"text-align: right;\">\n",
       "      <th></th>\n",
       "      <th>Ticker</th>\n",
       "      <th>Fr..Mo</th>\n",
       "      <th>Tu..Th</th>\n",
       "    </tr>\n",
       "    <tr>\n",
       "      <th>Year.Week</th>\n",
       "      <th></th>\n",
       "      <th></th>\n",
       "      <th></th>\n",
       "    </tr>\n",
       "  </thead>\n",
       "  <tbody>\n",
       "    <tr>\n",
       "      <th>2000.02</th>\n",
       "      <td>XLB</td>\n",
       "      <td>-0.199079</td>\n",
       "      <td>-0.742440</td>\n",
       "    </tr>\n",
       "    <tr>\n",
       "      <th>2000.04</th>\n",
       "      <td>XLB</td>\n",
       "      <td>-1.104810</td>\n",
       "      <td>-0.451896</td>\n",
       "    </tr>\n",
       "    <tr>\n",
       "      <th>2000.05</th>\n",
       "      <td>XLB</td>\n",
       "      <td>-1.145301</td>\n",
       "      <td>0.178611</td>\n",
       "    </tr>\n",
       "    <tr>\n",
       "      <th>2000.06</th>\n",
       "      <td>XLB</td>\n",
       "      <td>-1.032632</td>\n",
       "      <td>-1.020417</td>\n",
       "    </tr>\n",
       "    <tr>\n",
       "      <th>2000.07</th>\n",
       "      <td>XLB</td>\n",
       "      <td>-0.421053</td>\n",
       "      <td>0.566171</td>\n",
       "    </tr>\n",
       "  </tbody>\n",
       "</table>\n",
       "</div>"
      ],
      "text/plain": [
       "          Ticker    Fr..Mo    Tu..Th\n",
       "Year.Week                           \n",
       "2000.02      XLB -0.199079 -0.742440\n",
       "2000.04      XLB -1.104810 -0.451896\n",
       "2000.05      XLB -1.145301  0.178611\n",
       "2000.06      XLB -1.032632 -1.020417\n",
       "2000.07      XLB -0.421053  0.566171"
      ]
     },
     "execution_count": 14,
     "metadata": {},
     "output_type": "execute_result"
    }
   ],
   "source": [
    "# Get dataset1\n",
    "dataout1 = main(1)\n",
    "dataout1.head()"
   ]
  },
  {
   "cell_type": "code",
   "execution_count": 15,
   "metadata": {},
   "outputs": [
    {
     "name": "stdout",
     "output_type": "stream",
     "text": [
      "            Fr..Mo       Tu..Th\n",
      "count  7534.000000  7534.000000\n",
      "mean     -0.016336     0.047974\n",
      "std       0.981911     0.809931\n",
      "min      -7.117182    -7.696630\n",
      "25%      -0.441224    -0.341914\n",
      "50%       0.043619     0.062598\n",
      "75%       0.470824     0.449077\n",
      "max       9.459462    10.010644\n",
      "ΣFr..Mo: -246.15%  ΣTu..Th: 1084.3%\n"
     ]
    }
   ],
   "source": [
    "# Check basic stat\n",
    "print(dataout1.describe())\n",
    "delta1sum = dataout1[delta1].sum()\n",
    "delta2sum = dataout1[delta2].sum()\n",
    "print(f\"Σ{delta1}: {round(delta1sum * 2,2)}%  Σ{delta2}: {round(delta2sum * 3,2)}%\")"
   ]
  },
  {
   "cell_type": "code",
   "execution_count": 32,
   "metadata": {},
   "outputs": [
    {
     "data": {
      "text/plain": [
       "Ttest_indResult(statistic=-4.385446298362287, pvalue=1.165331566471324e-05)"
      ]
     },
     "execution_count": 32,
     "metadata": {},
     "output_type": "execute_result"
    }
   ],
   "source": [
    "# T-Test - ticker sum\n",
    "ttest_ind(dataout1[delta1], dataout1[delta2])"
   ]
  },
  {
   "cell_type": "code",
   "execution_count": 17,
   "metadata": {},
   "outputs": [
    {
     "name": "stdout",
     "output_type": "stream",
     "text": [
      "XLB (815x): Ttest_indResult(statistic=1.5585663985947462, pvalue=0.11929340361415564)\n",
      "XLC (43x): Ttest_indResult(statistic=1.2818825008559331, pvalue=0.20341071930823088)\n",
      "XLE (815x): Ttest_indResult(statistic=1.2444510838507101, pvalue=0.21351271711331013)\n",
      "XLF (815x): Ttest_indResult(statistic=1.178466234567816, pvalue=0.23878300333397945)\n",
      "XLI (815x): Ttest_indResult(statistic=1.657142976172875, pvalue=0.09768325037867653)\n",
      "XLK (815x): Ttest_indResult(statistic=2.1584930494199055, pvalue=0.031035285290462872)\n",
      "XLP (815x): Ttest_indResult(statistic=1.3970973042589285, pvalue=0.16257470104206997)\n",
      "XLRE (156x): Ttest_indResult(statistic=-0.4406576039765521, pvalue=0.6597680199264176)\n",
      "XLU (815x): Ttest_indResult(statistic=-0.7988427595447396, pvalue=0.4244981161496798)\n",
      "XLV (815x): Ttest_indResult(statistic=2.678530853994771, pvalue=0.00746899958945136)\n",
      "XLY (815x): Ttest_indResult(statistic=2.1579151527660483, pvalue=0.03108027458213101)\n"
     ]
    }
   ],
   "source": [
    "# T-Test - individual tickers\n",
    "for ticker in tickers:\n",
    "    df = dataout1[dataout1['Ticker'] == ticker]\n",
    "    print(f\"{ticker} ({len(df)}x): {ttest_ind(df[delta2], df[delta1])}\")"
   ]
  },
  {
   "cell_type": "code",
   "execution_count": 18,
   "metadata": {},
   "outputs": [],
   "source": [
    "# Data into output file\n",
    "outfile = os.path.join(\"..\", \"OutputData\", \"TickersDataSet1.csv\")\n",
    "dataout1.to_csv(outfile)"
   ]
  },
  {
   "cell_type": "markdown",
   "metadata": {},
   "source": [
    "### Charts"
   ]
  },
  {
   "cell_type": "code",
   "execution_count": 19,
   "metadata": {},
   "outputs": [
    {
     "data": {
      "text/plain": [
       "Fr..Mo   -0.325759\n",
       "Tu..Th    0.166343\n",
       "dtype: float64"
      ]
     },
     "execution_count": 19,
     "metadata": {},
     "output_type": "execute_result"
    }
   ],
   "source": [
    "# Check data shape - skewness\n",
    "# higly skwed +/-1; moderately skewed +/-0.5; almost symetric   \n",
    "dataout1.skew(axis = 0, skipna = True)"
   ]
  },
  {
   "cell_type": "code",
   "execution_count": 20,
   "metadata": {},
   "outputs": [
    {
     "data": {
      "text/plain": [
       "Fr..Mo     7.015168\n",
       "Tu..Th    11.133892\n",
       "dtype: float64"
      ]
     },
     "execution_count": 20,
     "metadata": {},
     "output_type": "execute_result"
    }
   ],
   "source": [
    "# Check data shape - kurtosis\n",
    "# heavy tail > 3( Normal Distribution) > light tail  \n",
    "dataout1.kurt(axis = 0, skipna = True)"
   ]
  },
  {
   "cell_type": "code",
   "execution_count": 31,
   "metadata": {},
   "outputs": [
    {
     "data": {
      "text/plain": [
       "Text(0.5, 0.98, 'Stock value change (%) count from Monday to Thurday')"
      ]
     },
     "execution_count": 31,
     "metadata": {},
     "output_type": "execute_result"
    },
    {
     "data": {
      "image/png": "[encoded data removed]",
      "text/plain": [
       "<Figure size 720x504 with 1 Axes>"
      ]
     },
     "metadata": {
      "needs_background": "light"
     },
     "output_type": "display_data"
    },
    {
     "data": {
      "image/png": "[encoded data removed]",
      "text/plain": [
       "<Figure size 720x504 with 1 Axes>"
      ]
     },
     "metadata": {
      "needs_background": "light"
     },
     "output_type": "display_data"
    }
   ],
   "source": [
    "# Check values distribution\n",
    "hist = dataout1.hist(bins=1000, figsize=(10,7), column=delta1)\n",
    "plt.suptitle(\"Stock value change (%) count from Thurday to Monday\")\n",
    "hist = dataout1.hist(bins=1000, figsize=(10,7), column=delta2)\n",
    "plt.suptitle(\"Stock value change (%) count from Monday to Thurday\")"
   ]
  },
  {
   "cell_type": "code",
   "execution_count": 22,
   "metadata": {},
   "outputs": [
    {
     "data": {
      "image/png": "[encoded data removed]",
      "text/plain": [
       "<Figure size 1440x360 with 1 Axes>"
      ]
     },
     "metadata": {
      "needs_background": "light"
     },
     "output_type": "display_data"
    },
    {
     "data": {
      "text/plain": [
       "<Figure size 432x288 with 0 Axes>"
      ]
     },
     "metadata": {},
     "output_type": "display_data"
    }
   ],
   "source": [
    "    dataout3= dataout1.groupby(\"Ticker\")\n",
    "    dataout3_df=dataout3.mean()\n",
    "    ticker_plot= dataout3_df.plot(kind=\"bar\", figsize=(20,5))\n",
    "    ticker_plot.set_xticklabels(dataout3_df.index, rotation=45)\n",
    "    ticker_plot.set_ylabel(\"Percent Change\")\n",
    "    plt.title(\"Fri-Mon vs Tues-Thurs Percent Change in Closing Price\")\n",
    "    plt.show()\n",
    "    plt.tight_layout()"
   ]
  },
  {
   "cell_type": "code",
   "execution_count": 23,
   "metadata": {},
   "outputs": [
    {
     "data": {
      "image/png": "[encoded data removed]",
      "text/plain": [
       "<Figure size 1440x360 with 1 Axes>"
      ]
     },
     "metadata": {
      "needs_background": "light"
     },
     "output_type": "display_data"
    },
    {
     "data": {
      "text/plain": [
       "<Figure size 432x288 with 0 Axes>"
      ]
     },
     "metadata": {},
     "output_type": "display_data"
    }
   ],
   "source": [
    "    dataout4= dataout2.groupby(\"Ticker\")\n",
    "    dataout4_df=dataout4.mean()\n",
    "    dataout4_df.head()\n",
    "    dataout5_df= dataout4_df.drop(columns=\"Year\")\n",
    "    ticker_plot= dataout5_df.plot(kind=\"bar\", figsize=(20,5))\n",
    "    ticker_plot.set_xticklabels(dataout5_df.index, rotation=45)\n",
    "    ticker_plot.set_ylabel(\"Average % Change on Daily Close\")\n",
    "    plt.title(\"Average % Change on Daily Close by Ticker\")\n",
    "    plt.show()\n",
    "    plt.tight_layout()\n",
    "   "
   ]
  },
  {
   "cell_type": "code",
   "execution_count": 24,
   "metadata": {},
   "outputs": [],
   "source": [
    "    total6=pd.DataFrame(dataout1.mean())"
   ]
  },
  {
   "cell_type": "code",
   "execution_count": 25,
   "metadata": {},
   "outputs": [],
   "source": [
    "rows1=total6.iloc[0:3]"
   ]
  },
  {
   "cell_type": "code",
   "execution_count": 26,
   "metadata": {},
   "outputs": [
    {
     "data": {
      "text/html": [
       "<div>\n",
       "<style scoped>\n",
       "    .dataframe tbody tr th:only-of-type {\n",
       "        vertical-align: middle;\n",
       "    }\n",
       "\n",
       "    .dataframe tbody tr th {\n",
       "        vertical-align: top;\n",
       "    }\n",
       "\n",
       "    .dataframe thead th {\n",
       "        text-align: right;\n",
       "    }\n",
       "</style>\n",
       "<table border=\"1\" class=\"dataframe\">\n",
       "  <thead>\n",
       "    <tr style=\"text-align: right;\">\n",
       "      <th></th>\n",
       "      <th>0</th>\n",
       "    </tr>\n",
       "  </thead>\n",
       "  <tbody>\n",
       "    <tr>\n",
       "      <th>Fr..Mo</th>\n",
       "      <td>-0.016336</td>\n",
       "    </tr>\n",
       "    <tr>\n",
       "      <th>Tu..Th</th>\n",
       "      <td>0.047974</td>\n",
       "    </tr>\n",
       "  </tbody>\n",
       "</table>\n",
       "</div>"
      ],
      "text/plain": [
       "               0\n",
       "Fr..Mo -0.016336\n",
       "Tu..Th  0.047974"
      ]
     },
     "execution_count": 26,
     "metadata": {},
     "output_type": "execute_result"
    }
   ],
   "source": [
    "rows1"
   ]
  },
  {
   "cell_type": "code",
   "execution_count": 27,
   "metadata": {},
   "outputs": [],
   "source": [
    "rows1T=rows1.T"
   ]
  },
  {
   "cell_type": "code",
   "execution_count": 28,
   "metadata": {},
   "outputs": [
    {
     "data": {
      "text/html": [
       "<div>\n",
       "<style scoped>\n",
       "    .dataframe tbody tr th:only-of-type {\n",
       "        vertical-align: middle;\n",
       "    }\n",
       "\n",
       "    .dataframe tbody tr th {\n",
       "        vertical-align: top;\n",
       "    }\n",
       "\n",
       "    .dataframe thead th {\n",
       "        text-align: right;\n",
       "    }\n",
       "</style>\n",
       "<table border=\"1\" class=\"dataframe\">\n",
       "  <thead>\n",
       "    <tr style=\"text-align: right;\">\n",
       "      <th></th>\n",
       "      <th>Fr..Mo</th>\n",
       "      <th>Tu..Th</th>\n",
       "    </tr>\n",
       "  </thead>\n",
       "  <tbody>\n",
       "    <tr>\n",
       "      <th>0</th>\n",
       "      <td>-0.016336</td>\n",
       "      <td>0.047974</td>\n",
       "    </tr>\n",
       "  </tbody>\n",
       "</table>\n",
       "</div>"
      ],
      "text/plain": [
       "     Fr..Mo    Tu..Th\n",
       "0 -0.016336  0.047974"
      ]
     },
     "execution_count": 28,
     "metadata": {},
     "output_type": "execute_result"
    }
   ],
   "source": [
    "rows1T"
   ]
  },
  {
   "cell_type": "code",
   "execution_count": 29,
   "metadata": {},
   "outputs": [
    {
     "data": {
      "image/png": "[encoded data removed]",
      "text/plain": [
       "<Figure size 360x360 with 1 Axes>"
      ]
     },
     "metadata": {
      "needs_background": "light"
     },
     "output_type": "display_data"
    },
    {
     "data": {
      "text/plain": [
       "<Figure size 432x288 with 0 Axes>"
      ]
     },
     "metadata": {},
     "output_type": "display_data"
    }
   ],
   "source": [
    "    total_plot= rows1T.plot(kind=\"bar\", figsize=(5,5))\n",
    "    total_plot.set_xticklabels(rows1T.index, rotation=45)\n",
    "    total_plot.set_ylabel(\"Average % Change on Daily Close\")\n",
    "    total_plot.set_xlabel(\"11 Tickers Total\")\n",
    "    plt.title(\"All Tickers: Fri-Mon vs Tues-Thurs Percent Change in Closing Price\")\n",
    "    plt.show()\n",
    "    plt.tight_layout()"
   ]
  },
  {
   "cell_type": "code",
   "execution_count": null,
   "metadata": {},
   "outputs": [],
   "source": []
  }
 ],
 "metadata": {
  "kernelspec": {
   "display_name": "p1",
   "language": "python",
   "name": "p1"
  },
  "language_info": {
   "codemirror_mode": {
    "name": "ipython",
    "version": 3
   },
   "file_extension": ".py",
   "mimetype": "text/x-python",
   "name": "python",
   "nbconvert_exporter": "python",
   "pygments_lexer": "ipython3",
   "version": "3.6.8"
  }
 },
 "nbformat": 4,
 "nbformat_minor": 2
}
